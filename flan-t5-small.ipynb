{
 "cells": [
  {
   "cell_type": "code",
   "execution_count": 2,
   "metadata": {},
   "outputs": [
    {
     "name": "stdout",
     "output_type": "stream",
     "text": [
      "Collecting sentencepiece\n",
      "  Downloading sentencepiece-0.2.0-cp312-cp312-win_amd64.whl.metadata (8.3 kB)\n",
      "Downloading sentencepiece-0.2.0-cp312-cp312-win_amd64.whl (991 kB)\n",
      "   ---------------------------------------- 0.0/992.0 kB ? eta -:--:--\n",
      "   - ------------------------------------- 41.0/992.0 kB 991.0 kB/s eta 0:00:01\n",
      "   ---- ----------------------------------- 112.6/992.0 kB 1.1 MB/s eta 0:00:01\n",
      "   ------- -------------------------------- 194.6/992.0 kB 1.3 MB/s eta 0:00:01\n",
      "   -------- ------------------------------- 204.8/992.0 kB 1.4 MB/s eta 0:00:01\n",
      "   -------------------- ------------------- 512.0/992.0 kB 2.1 MB/s eta 0:00:01\n",
      "   --------------------- ------------------ 532.5/992.0 kB 2.2 MB/s eta 0:00:01\n",
      "   --------------------- ------------------ 532.5/992.0 kB 2.2 MB/s eta 0:00:01\n",
      "   --------------------- ------------------ 532.5/992.0 kB 2.2 MB/s eta 0:00:01\n",
      "   --------------------- ------------------ 532.5/992.0 kB 2.2 MB/s eta 0:00:01\n",
      "   --------------------- ------------------ 532.5/992.0 kB 2.2 MB/s eta 0:00:01\n",
      "   --------------------- ------------------ 532.5/992.0 kB 2.2 MB/s eta 0:00:01\n",
      "   --------------------------------- ------ 829.4/992.0 kB 1.5 MB/s eta 0:00:01\n",
      "   --------------------------------- ------ 829.4/992.0 kB 1.5 MB/s eta 0:00:01\n",
      "   ---------------------------------------- 992.0/992.0 kB 1.5 MB/s eta 0:00:00\n",
      "Installing collected packages: sentencepiece\n",
      "Successfully installed sentencepiece-0.2.0\n",
      "Note: you may need to restart the kernel to use updated packages.\n"
     ]
    },
    {
     "name": "stderr",
     "output_type": "stream",
     "text": [
      "\n",
      "[notice] A new release of pip is available: 24.1.1 -> 24.1.2\n",
      "[notice] To update, run: python.exe -m pip install --upgrade pip\n"
     ]
    }
   ],
   "source": [
    "%pip install sentencepiece"
   ]
  },
  {
   "cell_type": "code",
   "execution_count": 4,
   "metadata": {},
   "outputs": [
    {
     "name": "stderr",
     "output_type": "stream",
     "text": [
      "Special tokens have been added in the vocabulary, make sure the associated word embeddings are fine-tuned or trained.\n"
     ]
    },
    {
     "name": "stdout",
     "output_type": "stream",
     "text": [
      "<pad>if you're a snob, you'll be able\n"
     ]
    }
   ],
   "source": [
    "# pip install accelerate\n",
    "from transformers import T5Tokenizer, T5ForConditionalGeneration\n",
    "import sentencepiece\n",
    "\n",
    "tokenizer = T5Tokenizer.from_pretrained(\"google/flan-t5-small\")\n",
    "model = T5ForConditionalGeneration.from_pretrained(\"google/flan-t5-small\", device_map=\"auto\")\n",
    "\n",
    "input_text = \"Tell some jokes\"\n",
    "input_ids = tokenizer(input_text, return_tensors=\"pt\").input_ids.to(\"cuda\")\n",
    "\n",
    "outputs = model.generate(input_ids)\n",
    "print(tokenizer.decode(outputs[0]))"
   ]
  }
 ],
 "metadata": {
  "kernelspec": {
   "display_name": "Python 3",
   "language": "python",
   "name": "python3"
  },
  "language_info": {
   "codemirror_mode": {
    "name": "ipython",
    "version": 3
   },
   "file_extension": ".py",
   "mimetype": "text/x-python",
   "name": "python",
   "nbconvert_exporter": "python",
   "pygments_lexer": "ipython3",
   "version": "3.12.1"
  }
 },
 "nbformat": 4,
 "nbformat_minor": 2
}
