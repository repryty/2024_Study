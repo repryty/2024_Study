{
  "cells": [
    {
      "cell_type": "markdown",
      "metadata": {
        "id": "w2BsaXtWqpAp"
      },
      "source": [
        "# 강화 학습 맛보기\n",
        "\n",
        "강화 학습 수업에 오신 여러분을 진심으로 환영합니다!\n",
        "\n",
        "여러분이 앞으로 1년 동안 배우게 될 강화 학습은 인공지능 분야 중에서도 가장 독특하고 유용한 기술입니다.\n",
        "아마 다른 어떤 수업에서도 경험하지 못할 재미있고 유익한 경험이 될 거에요."
      ]
    },
    {
      "cell_type": "markdown",
      "metadata": {
        "id": "yPaT76WHqrUV"
      },
      "source": [
        "## 강화 학습 내용 훑어보기\n",
        "\n",
        "강화 학습은 시행착오를 거치며 경험을 통해 적절한 행동 방식을 배워나가는 과정입니다. \"당근과 채찍\" 전략을 생각하면 쉽습니다. 여러분이 좋은 행동을 하면 당근을, 나쁜 행동을 하면 채찍질을 주는 것이 바로 강화 학습입니다. 이 당근과 채찍을 통틀어 강화 학습에서는 \"보상\"이라고 부릅니다. 강화 학습의 가장 중요한 요소 중 하나가 바로 이 보상입니다.\n",
        "\n",
        "![](https://s3-ap-northeast-2.amazonaws.com/opentutorials-user-file/module/4916/12365.jpeg)\n",
        "\n",
        "강화 학습의 또 다른 중요한 요소는 바로 끊임없이 변화하는 환경의 상태입니다. 어러분이 취하는 행동은 여러분 주변의 환경을 변화시킵니다. 여러분은 이 끊임없이 변화하는 환경 속에서 계속 보상을 최대한 취할 수 있도록 노력해야합니다. 이 과정이 바로 강화 학습의 과정과 많이 닮아있습니다.\n",
        "\n"
      ]
    },
    {
      "cell_type": "markdown",
      "metadata": {
        "id": "94yhPKFYquQw"
      },
      "source": [
        "## 강화 학습 예제 경험하기\n",
        "\n",
        "강화 학습이 어떤 문제를 풀 수 있는지 한번 살펴볼까요?\n",
        "\n",
        "사실 강화 학습은 우리 주변에서 흔히 접할 수 있는 대부분의 문제를 다 풀 수 있는 아주 유용한 기술입니다. 로봇을 조종하는 것부터 시작해서, 자율 주행, 주식 투자, 심지어는 최근에 각광받는 ChatGPT 역시 강화 학습 기술이 사용되었습니다. 우리가 일상 생활에서 상벌의 개념을 생각할 수 있는 거의 모든 문제를 강화 학습으로 풀 수 있습니다."
      ]
    },
    {
      "cell_type": "code",
      "execution_count": 3,
      "metadata": {
        "id": "t3e7d7NMlQPE"
      },
      "outputs": [],
      "source": [
        "%%capture\n",
        "!pip install -U ray[rllib]\n",
        "!pip install gputil\n",
        "!pip install ipython==7.10.0\n",
        "!pip install moviepy\n",
        "!pip install gymnasium[classic-control]"
      ]
    },
    {
      "cell_type": "code",
      "execution_count": 4,
      "metadata": {
        "id": "zk7kE26_lTjF"
      },
      "outputs": [],
      "source": [
        "from __future__ import absolute_import\n",
        "from __future__ import division\n",
        "from __future__ import print_function\n",
        "\n",
        "import ray\n",
        "import numpy as np\n",
        "import gymnasium as gym\n",
        "\n",
        "import warnings\n",
        "warnings.filterwarnings('ignore')\n",
        "\n",
        "from IPython.display import HTML\n",
        "from base64 import b64encode\n",
        "from gymnasium.wrappers import RecordVideo\n",
        "\n",
        "\n",
        "def view_video(filename):\n",
        "    video = f'video/{filename}-episode-0.mp4'\n",
        "    mp4 = open(video,'rb').read()\n",
        "    data_url = \"data:video/mp4;base64,\" + b64encode(mp4).decode()\n",
        "\n",
        "    return HTML(\"\"\"\n",
        "    <video width=400 controls>\n",
        "          <source src=\"%s\" type=\"video/mp4\">\n",
        "    </video>\n",
        "    \"\"\" % data_url)"
      ]
    },
    {
      "cell_type": "markdown",
      "metadata": {
        "id": "5_OKJ8jCqxuQ"
      },
      "source": [
        "### 환경 정의하기\n",
        "\n",
        "오늘 수업 시간에는 강화 학습에서 가장 단순하고 유명한 예제 중 하나인 \"Mountain Car\" 문제를 직접 풀어볼 것입니다. 이 문제에서 여러분의 목표는 산 정상의 깃발에 도달하는 것입니다.\n",
        "여러분은 오른쪽 또는 왼쪽으로 가속하는 페달을 밟거나, 페달을 밟지 않는 선택을 할 수 있습니다.\n",
        "산 정상까지 올라가려면 페달을 적절히 밟아야 합니다. 하지만 산의 경사가 너무 가파르기 때문에, 아무리 밟아도 중력 때문에 올라가지 못할 수도 있습니다.\n",
        "\n",
        "![](https://www.gymlibrary.dev/_images/mountain_car.gif)\n",
        "\n",
        "먼저, 이 환경에서 여러분이 취할 수 있는 행동은 다음과 같이 표현할 수 있습니다:\n",
        "\n",
        "0: 왼쪽으로 가속하는 페달 밟기\n",
        "\n",
        "1: 페달 밟지 않기\n",
        "\n",
        "2: 오른쪽으로 가속하는 페달 밟기"
      ]
    },
    {
      "cell_type": "code",
      "execution_count": 5,
      "metadata": {
        "colab": {
          "base_uri": "https://localhost:8080/"
        },
        "id": "X25O_F-BlbXG",
        "outputId": "600ffe95-8731-4692-e2b9-f827f54f1a67"
      },
      "outputs": [
        {
          "output_type": "stream",
          "name": "stdout",
          "text": [
            "Created env: <TimeLimit<OrderEnforcing<PassiveEnvChecker<MountainCarEnv<MountainCar-v0>>>>>\n",
            "Available actions: Discrete(3)\n"
          ]
        }
      ],
      "source": [
        "env = gym.make('MountainCar-v0')\n",
        "print('Created env:', env)\n",
        "print('Available actions:', env.action_space) #행동의 ㄱ개수"
      ]
    },
    {
      "cell_type": "markdown",
      "metadata": {
        "id": "nVe3pxShGC_g"
      },
      "source": [
        "다음으로, 이 환경에서 받을 수 있는 상태에 대한 정보는 $s_{t} = (x_{t}, v_{t})$입니다.\n",
        "즉, 여러분이 받는 상태 정보 $s_{t}$는 $x$축 방향에서의 현재 위치 $x_{t}$와 속도 $v_{t}$입니다.\n",
        "\n",
        "$x$축 방향의 좌표는 $(-1.2, 0.6)$ 사이이고, 속도 $v$는 (-0.07, 0.07) 사이입니다."
      ]
    },
    {
      "cell_type": "code",
      "execution_count": 6,
      "metadata": {
        "colab": {
          "base_uri": "https://localhost:8080/"
        },
        "id": "6XWStLA-ldOd",
        "outputId": "78c5edde-0bd0-4827-c761-01812ed9a253"
      },
      "outputs": [
        {
          "output_type": "stream",
          "name": "stdout",
          "text": [
            "Observation space: Box([-1.2  -0.07], [0.6  0.07], (2,), float32)\n",
            "The starting state is: [-0.48815003  0.        ]\n"
          ]
        }
      ],
      "source": [
        "state, _ = env.reset()\n",
        "print('Observation space:', env.observation_space) # == state\n",
        "print('The starting state is:', state) # x축방향 위치, 속도"
      ]
    },
    {
      "cell_type": "markdown",
      "metadata": {
        "id": "6XSo-dC6GC_h"
      },
      "source": [
        "여러분이 어떤 행동을 선택하면, 다음과 같이 환경의 상태가 변화합니다.\n",
        "\n",
        "$v_{t+1} = v_{t} + (\\mathrm{action} - 1) * F - \\cos(3 * x_{t}) * mg$\n",
        "\n",
        "$x_{t+1} = x_{t} + v_{t+1}$\n",
        "\n",
        "여기서 $F$는 페달을 밟을 때 가속하는 힘 $F = 0.001$이고, 중력 $mg = 0.0025$입니다."
      ]
    },
    {
      "cell_type": "code",
      "execution_count": 7,
      "metadata": {
        "colab": {
          "base_uri": "https://localhost:8080/"
        },
        "id": "DKYtgu-blgGL",
        "outputId": "e02b423e-90bf-4339-94ae-6a7a43c8c912"
      },
      "outputs": [
        {
          "output_type": "stream",
          "name": "stdout",
          "text": [
            "State: [-0.48941538 -0.00126536]\n",
            "Reward: -1.0\n",
            "Done: False\n"
          ]
        }
      ],
      "source": [
        "action = 0 # 왼쪽으로 가는 행동을 선택\n",
        "\n",
        "# 행동 선택 후 다음 상태, 보상, 환경이 끝난지에 대한 정보, 뒤에 _ _는 지금 배우지 않음\n",
        "state, reward, done, _, _ = env.step(action)\n",
        "print(f\"State: {state}\") # [다음 x축 좌표, 다음 속도]\n",
        "print(f\"Reward: {reward}\")# 다음 보상\n",
        "print(f\"Done: {done}\") # 환경이 끝났는지?"
      ]
    },
    {
      "cell_type": "markdown",
      "metadata": {
        "id": "GCUIOuWYq0Nq"
      },
      "source": [
        "### 인공지능 정책 정의하기\n",
        "\n",
        "강화 학습에서 정책은 인공지능의 두뇌입니다. 인공지능이 변화하는 환경 속에서 어떻게 행동할지를 결정하는 지침으로 생각할 수 있습니다. 가장 단순한 형태의 정책으로는 여러분이 취할 수 있는 행동 중에서 아무거나 (샘플링하여) 고르는 것이 있겠습니다."
      ]
    },
    {
      "cell_type": "code",
      "execution_count": 8,
      "metadata": {
        "id": "1o18p51sq0lv"
      },
      "outputs": [],
      "source": [
        "class RandomPolicy(): # 아무거나 하겠다\n",
        "   # 클래스 선언\n",
        "    def __init__(self, action_space):\n",
        "      # 행동 공간에 대한 정보 저장\n",
        "        self.action_space = action_space\n",
        "        self.name=\"RandomPolicy()\"\n",
        "\n",
        "    # 클래스 호출 함수\n",
        "    def __call__(self, state):\n",
        "        global graph1\n",
        "        graph1.append(state[1])\n",
        "        # 상태 (state)를 받았을때 어떤 행동을 취할지 결정하는 함수\n",
        "        # 여기선 랜덤한걸 선택\n",
        "        return self.action_space.sample()"
      ]
    },
    {
      "cell_type": "code",
      "source": [
        "class ExamplePolicy():\n",
        "    def __init__(self, action_space):\n",
        "        self.action_space = action_space\n",
        "        self.name=\"ExamplePolicy()\"\n",
        "\n",
        "        #새로정의하는 상수\n",
        "        self.start_position=-0.6\n",
        "\n",
        "    def __call__(self, state): # 밟는데 안움직이면 전환하는법\n",
        "        global graph1\n",
        "        graph1.append(state[1])\n",
        "        x,v = state\n",
        "        next_action=0\n",
        "        if v ==0:\n",
        "            if x < self.start_position:\n",
        "                my_action=0\n",
        "                next_action = 2\n",
        "            elif x > self.start_position:\n",
        "                my_action=2\n",
        "                next_action = 0\n",
        "            else:\n",
        "                my_action=1\n",
        "                next_action = 0\n",
        "\n",
        "        return next_action"
      ],
      "metadata": {
        "id": "KCq6qO6GpNr1"
      },
      "execution_count": 9,
      "outputs": []
    },
    {
      "cell_type": "code",
      "source": [
        "graph1=[]\n",
        "graph2=[]\n",
        "class Policy1():\n",
        "    def __init__(self, action_space):\n",
        "        self.action_space = action_space\n",
        "        self.name=\"Policy1()\"\n",
        "\n",
        "    def __call__(self, state):\n",
        "        global graph1\n",
        "        global graph2\n",
        "        graph1.append(state[1])\n",
        "        graph2.append(state[0])\n",
        "\n",
        "        x,v = state\n",
        "        if v>0:\n",
        "            action = 2\n",
        "        elif v<0:\n",
        "            action = 0\n",
        "        else:\n",
        "            action = 2\n",
        "        return action"
      ],
      "metadata": {
        "id": "lCp6Qv_6nrq9"
      },
      "execution_count": 10,
      "outputs": []
    },
    {
      "cell_type": "markdown",
      "metadata": {
        "id": "WBvVYPQrq3h_"
      },
      "source": [
        "### 환경과 상호작용하기\n",
        "\n",
        "정책이 있다면, 여러분은 주어진 상황에서 어떤 행동을 취해야 할지 결정할 수 있습니다. 그럼 이제 본격적으로 환경 속에 들어가서 직접 부딪혀볼까요?\n",
        "\n",
        "여러분이 어떤 행동을 취하면, 환경은 여러분에게 보상을 줍니다. 이 보상은 여러분이 좋은 행동을 했는지, 나쁜 행동을 했는지 알려주는 값입니다. 그리고 여러분이 취한 행동에 따라 환경은 변화하고, 이 변화한 환경을 여러분은 다시 관찰할 수 있습니다. 그리고 여러분은 또다시 (여러분이 관찰한 결과를 토대로) 어떤 행동을 취할지 결정합니다. 강화 학습은 이 과정을 반복하며 진행됩니다."
      ]
    },
    {
      "cell_type": "code",
      "source": [
        "import matplotlib.pyplot as plt\n",
        "import numpy as np"
      ],
      "metadata": {
        "id": "v3UY0Rj0oqit"
      },
      "execution_count": 11,
      "outputs": []
    },
    {
      "cell_type": "code",
      "execution_count": 12,
      "metadata": {
        "id": "mwtH_tezxFYm",
        "colab": {
          "base_uri": "https://localhost:8080/",
          "height": 471
        },
        "outputId": "019ffce8-7fda-42fd-faa3-0cea49aafda2"
      },
      "outputs": [
        {
          "output_type": "stream",
          "name": "stdout",
          "text": [
            "Moviepy - Building video /content/video/random-agent-episode-0.mp4.\n",
            "Moviepy - Writing video /content/video/random-agent-episode-0.mp4\n",
            "\n"
          ]
        },
        {
          "output_type": "stream",
          "name": "stderr",
          "text": [
            "                                                  "
          ]
        },
        {
          "output_type": "stream",
          "name": "stdout",
          "text": [
            "Moviepy - Done !\n",
            "Moviepy - video ready /content/video/random-agent-episode-0.mp4\n"
          ]
        },
        {
          "output_type": "stream",
          "name": "stderr",
          "text": [
            "\r"
          ]
        },
        {
          "output_type": "stream",
          "name": "stdout",
          "text": [
            "Moviepy - Building video /content/video/random-agent-episode-0.mp4.\n",
            "Moviepy - Writing video /content/video/random-agent-episode-0.mp4\n",
            "\n"
          ]
        },
        {
          "output_type": "stream",
          "name": "stderr",
          "text": []
        },
        {
          "output_type": "stream",
          "name": "stdout",
          "text": [
            "Moviepy - Done !\n",
            "Moviepy - video ready /content/video/random-agent-episode-0.mp4\n"
          ]
        },
        {
          "output_type": "execute_result",
          "data": {
            "text/plain": [
              "<IPython.core.display.HTML object>"
            ],
            "text/html": [
              "\n",
              "    <video width=400 controls>\n",
              "          <source src=\"data:video/mp4;base64,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\" type=\"video/mp4\">\n",
              "    </video>\n",
              "    "
            ]
          },
          "metadata": {},
          "execution_count": 12
        }
      ],
      "source": [
        "# 환경을 생성\n",
        "env = gym.make(\"MountainCar-v0\", render_mode=\"rgb_array\")\n",
        "# 비디오 저장을 위해\n",
        "env = RecordVideo(env, 'video', name_prefix='random-agent')\n",
        "\n",
        "#정책 불러오기\n",
        "# agent = RandomPolicy(env.action_space)\n",
        "agent = Policy1(env.action_space)\n",
        "# agent = ExamplePolicy(env.action_space)\n",
        "\n",
        "state, _ = env.reset()# 환경 초기화\n",
        "env.start_video_recorder() # 비디오 촬영 시작\n",
        "\n",
        "graph1=[]\n",
        "graph2=[]\n",
        "done=False\n",
        "# for t in range(1000):\n",
        "while not done:\n",
        "    action = agent(state) # 상태정보를 받아 행동 결정\n",
        "    state, reward, done, _, _ = env.step(action) # 행동에 의해 상태 변화\n",
        "    env.render() # 비디오 촬영\n",
        "\n",
        "env.close()\n",
        "view_video('random-agent')"
      ]
    },
    {
      "cell_type": "code",
      "source": [
        "plt.title(agent.name)\n",
        "# print(len(graph1))\n",
        "plt.text(len(graph1)-2, graph1[-1], str(len(graph1)))\n",
        "plt.plot([i for i in range(len(graph1))], list(map(lambda x: x*20-0.4, graph1)))\n",
        "plt.plot([i for i in range(len(graph2))], graph2)"
      ],
      "metadata": {
        "colab": {
          "base_uri": "https://localhost:8080/",
          "height": 470
        },
        "id": "YgFm0wy3uhNs",
        "outputId": "dbd42ff0-5c83-42f0-eeda-c46550e02045"
      },
      "execution_count": 13,
      "outputs": [
        {
          "output_type": "execute_result",
          "data": {
            "text/plain": [
              "[<matplotlib.lines.Line2D at 0x7ab384b09900>]"
            ]
          },
          "metadata": {},
          "execution_count": 13
        },
        {
          "output_type": "display_data",
          "data": {
            "text/plain": [
              "<Figure size 640x480 with 1 Axes>"
            ],
            "image/png": "[encoded data removed]"
          },
          "metadata": {}
        }
      ]
    },
    {
      "cell_type": "markdown",
      "metadata": {
        "id": "u3xDu0-EGC_k"
      },
      "source": [
        "### BONUS: 강화 학습 에이전트 학습하기"
      ]
    },
    {
      "cell_type": "code",
      "execution_count": 14,
      "metadata": {
        "colab": {
          "base_uri": "https://localhost:8080/",
          "height": 281
        },
        "id": "MxmeXv3xlrgD",
        "outputId": "af1fdd47-9c4c-4bf8-9214-9170227e18e5"
      },
      "outputs": [
        {
          "output_type": "error",
          "ename": "KeyboardInterrupt",
          "evalue": "",
          "traceback": [
            "\u001b[0;31m---------------------------------------------------------------------------\u001b[0m",
            "\u001b[0;31mKeyboardInterrupt\u001b[0m                         Traceback (most recent call last)",
            "\u001b[0;32m<ipython-input-14-2f5758810a85>\u001b[0m in \u001b[0;36m<cell line: 1>\u001b[0;34m()\u001b[0m\n\u001b[0;32m----> 1\u001b[0;31m \u001b[0;32mfrom\u001b[0m \u001b[0mray\u001b[0m\u001b[0;34m.\u001b[0m\u001b[0mrllib\u001b[0m\u001b[0;34m.\u001b[0m\u001b[0malgorithms\u001b[0m\u001b[0;34m.\u001b[0m\u001b[0mppo\u001b[0m \u001b[0;32mimport\u001b[0m \u001b[0mPPOConfig\u001b[0m\u001b[0;34m\u001b[0m\u001b[0;34m\u001b[0m\u001b[0m\n\u001b[0m\u001b[1;32m      2\u001b[0m \u001b[0;32mfrom\u001b[0m \u001b[0mray\u001b[0m\u001b[0;34m.\u001b[0m\u001b[0mtune\u001b[0m\u001b[0;34m.\u001b[0m\u001b[0mlogger\u001b[0m \u001b[0;32mimport\u001b[0m \u001b[0mpretty_print\u001b[0m\u001b[0;34m\u001b[0m\u001b[0;34m\u001b[0m\u001b[0m\n\u001b[1;32m      3\u001b[0m \u001b[0;34m\u001b[0m\u001b[0m\n\u001b[1;32m      4\u001b[0m algo = (\n\u001b[1;32m      5\u001b[0m     \u001b[0mPPOConfig\u001b[0m\u001b[0;34m(\u001b[0m\u001b[0;34m)\u001b[0m\u001b[0;34m\u001b[0m\u001b[0;34m\u001b[0m\u001b[0m\n",
            "\u001b[0;32m/usr/local/lib/python3.10/dist-packages/ray/rllib/__init__.py\u001b[0m in \u001b[0;36m<module>\u001b[0;34m\u001b[0m\n\u001b[1;32m      5\u001b[0m \u001b[0;31m# Note: do not introduce unnecessary library dependencies here, e.g. gym.\u001b[0m\u001b[0;34m\u001b[0m\u001b[0;34m\u001b[0m\u001b[0m\n\u001b[1;32m      6\u001b[0m \u001b[0;31m# This file is imported from the tune module in order to register RLlib agents.\u001b[0m\u001b[0;34m\u001b[0m\u001b[0;34m\u001b[0m\u001b[0m\n\u001b[0;32m----> 7\u001b[0;31m \u001b[0;32mfrom\u001b[0m \u001b[0mray\u001b[0m\u001b[0;34m.\u001b[0m\u001b[0mrllib\u001b[0m\u001b[0;34m.\u001b[0m\u001b[0menv\u001b[0m\u001b[0;34m.\u001b[0m\u001b[0mbase_env\u001b[0m \u001b[0;32mimport\u001b[0m \u001b[0mBaseEnv\u001b[0m\u001b[0;34m\u001b[0m\u001b[0;34m\u001b[0m\u001b[0m\n\u001b[0m\u001b[1;32m      8\u001b[0m \u001b[0;32mfrom\u001b[0m \u001b[0mray\u001b[0m\u001b[0;34m.\u001b[0m\u001b[0mrllib\u001b[0m\u001b[0;34m.\u001b[0m\u001b[0menv\u001b[0m\u001b[0;34m.\u001b[0m\u001b[0mexternal_env\u001b[0m \u001b[0;32mimport\u001b[0m \u001b[0mExternalEnv\u001b[0m\u001b[0;34m\u001b[0m\u001b[0;34m\u001b[0m\u001b[0m\n\u001b[1;32m      9\u001b[0m \u001b[0;32mfrom\u001b[0m \u001b[0mray\u001b[0m\u001b[0;34m.\u001b[0m\u001b[0mrllib\u001b[0m\u001b[0;34m.\u001b[0m\u001b[0menv\u001b[0m\u001b[0;34m.\u001b[0m\u001b[0mmulti_agent_env\u001b[0m \u001b[0;32mimport\u001b[0m \u001b[0mMultiAgentEnv\u001b[0m\u001b[0;34m\u001b[0m\u001b[0;34m\u001b[0m\u001b[0m\n",
            "\u001b[0;32m/usr/local/lib/python3.10/dist-packages/ray/rllib/env/__init__.py\u001b[0m in \u001b[0;36m<module>\u001b[0;34m\u001b[0m\n\u001b[1;32m      4\u001b[0m \u001b[0;32mfrom\u001b[0m \u001b[0mray\u001b[0m\u001b[0;34m.\u001b[0m\u001b[0mrllib\u001b[0m\u001b[0;34m.\u001b[0m\u001b[0menv\u001b[0m\u001b[0;34m.\u001b[0m\u001b[0mexternal_multi_agent_env\u001b[0m \u001b[0;32mimport\u001b[0m \u001b[0mExternalMultiAgentEnv\u001b[0m\u001b[0;34m\u001b[0m\u001b[0;34m\u001b[0m\u001b[0m\n\u001b[1;32m      5\u001b[0m \u001b[0;32mfrom\u001b[0m \u001b[0mray\u001b[0m\u001b[0;34m.\u001b[0m\u001b[0mrllib\u001b[0m\u001b[0;34m.\u001b[0m\u001b[0menv\u001b[0m\u001b[0;34m.\u001b[0m\u001b[0mmulti_agent_env\u001b[0m \u001b[0;32mimport\u001b[0m \u001b[0mMultiAgentEnv\u001b[0m\u001b[0;34m\u001b[0m\u001b[0;34m\u001b[0m\u001b[0m\n\u001b[0;32m----> 6\u001b[0;31m \u001b[0;32mfrom\u001b[0m \u001b[0mray\u001b[0m\u001b[0;34m.\u001b[0m\u001b[0mrllib\u001b[0m\u001b[0;34m.\u001b[0m\u001b[0menv\u001b[0m\u001b[0;34m.\u001b[0m\u001b[0mpolicy_client\u001b[0m \u001b[0;32mimport\u001b[0m \u001b[0mPolicyClient\u001b[0m\u001b[0;34m\u001b[0m\u001b[0;34m\u001b[0m\u001b[0m\n\u001b[0m\u001b[1;32m      7\u001b[0m \u001b[0;32mfrom\u001b[0m \u001b[0mray\u001b[0m\u001b[0;34m.\u001b[0m\u001b[0mrllib\u001b[0m\u001b[0;34m.\u001b[0m\u001b[0menv\u001b[0m\u001b[0;34m.\u001b[0m\u001b[0mpolicy_server_input\u001b[0m \u001b[0;32mimport\u001b[0m \u001b[0mPolicyServerInput\u001b[0m\u001b[0;34m\u001b[0m\u001b[0;34m\u001b[0m\u001b[0m\n\u001b[1;32m      8\u001b[0m \u001b[0;32mfrom\u001b[0m \u001b[0mray\u001b[0m\u001b[0;34m.\u001b[0m\u001b[0mrllib\u001b[0m\u001b[0;34m.\u001b[0m\u001b[0menv\u001b[0m\u001b[0;34m.\u001b[0m\u001b[0mremote_base_env\u001b[0m \u001b[0;32mimport\u001b[0m \u001b[0mRemoteBaseEnv\u001b[0m\u001b[0;34m\u001b[0m\u001b[0;34m\u001b[0m\u001b[0m\n",
            "\u001b[0;32m/usr/local/lib/python3.10/dist-packages/ray/rllib/env/policy_client.py\u001b[0m in \u001b[0;36m<module>\u001b[0;34m\u001b[0m\n\u001b[1;32m     15\u001b[0m \u001b[0;32mfrom\u001b[0m \u001b[0mray\u001b[0m\u001b[0;34m.\u001b[0m\u001b[0mrllib\u001b[0m\u001b[0;34m.\u001b[0m\u001b[0menv\u001b[0m\u001b[0;34m.\u001b[0m\u001b[0mexternal_multi_agent_env\u001b[0m \u001b[0;32mimport\u001b[0m \u001b[0mExternalMultiAgentEnv\u001b[0m\u001b[0;34m\u001b[0m\u001b[0;34m\u001b[0m\u001b[0m\n\u001b[1;32m     16\u001b[0m \u001b[0;32mfrom\u001b[0m \u001b[0mray\u001b[0m\u001b[0;34m.\u001b[0m\u001b[0mrllib\u001b[0m\u001b[0;34m.\u001b[0m\u001b[0menv\u001b[0m\u001b[0;34m.\u001b[0m\u001b[0mmulti_agent_env\u001b[0m \u001b[0;32mimport\u001b[0m \u001b[0mMultiAgentEnv\u001b[0m\u001b[0;34m\u001b[0m\u001b[0;34m\u001b[0m\u001b[0m\n\u001b[0;32m---> 17\u001b[0;31m \u001b[0;32mfrom\u001b[0m \u001b[0mray\u001b[0m\u001b[0;34m.\u001b[0m\u001b[0mrllib\u001b[0m\u001b[0;34m.\u001b[0m\u001b[0mpolicy\u001b[0m\u001b[0;34m.\u001b[0m\u001b[0msample_batch\u001b[0m \u001b[0;32mimport\u001b[0m \u001b[0mMultiAgentBatch\u001b[0m\u001b[0;34m\u001b[0m\u001b[0;34m\u001b[0m\u001b[0m\n\u001b[0m\u001b[1;32m     18\u001b[0m \u001b[0;32mfrom\u001b[0m \u001b[0mray\u001b[0m\u001b[0;34m.\u001b[0m\u001b[0mrllib\u001b[0m\u001b[0;34m.\u001b[0m\u001b[0mutils\u001b[0m\u001b[0;34m.\u001b[0m\u001b[0mannotations\u001b[0m \u001b[0;32mimport\u001b[0m \u001b[0mPublicAPI\u001b[0m\u001b[0;34m\u001b[0m\u001b[0;34m\u001b[0m\u001b[0m\n\u001b[1;32m     19\u001b[0m from ray.rllib.utils.typing import (\n",
            "\u001b[0;32m/usr/local/lib/python3.10/dist-packages/ray/rllib/policy/__init__.py\u001b[0m in \u001b[0;36m<module>\u001b[0;34m\u001b[0m\n\u001b[1;32m      4\u001b[0m \u001b[0;32mfrom\u001b[0m \u001b[0mray\u001b[0m\u001b[0;34m.\u001b[0m\u001b[0mrllib\u001b[0m\u001b[0;34m.\u001b[0m\u001b[0mpolicy\u001b[0m\u001b[0;34m.\u001b[0m\u001b[0mpolicy_template\u001b[0m \u001b[0;32mimport\u001b[0m \u001b[0mbuild_policy_class\u001b[0m\u001b[0;34m\u001b[0m\u001b[0;34m\u001b[0m\u001b[0m\n\u001b[1;32m      5\u001b[0m \u001b[0;32mfrom\u001b[0m \u001b[0mray\u001b[0m\u001b[0;34m.\u001b[0m\u001b[0mrllib\u001b[0m\u001b[0;34m.\u001b[0m\u001b[0mpolicy\u001b[0m\u001b[0;34m.\u001b[0m\u001b[0mtorch_policy_template\u001b[0m \u001b[0;32mimport\u001b[0m \u001b[0mbuild_torch_policy\u001b[0m\u001b[0;34m\u001b[0m\u001b[0;34m\u001b[0m\u001b[0m\n\u001b[0;32m----> 6\u001b[0;31m \u001b[0;32mfrom\u001b[0m \u001b[0mray\u001b[0m\u001b[0;34m.\u001b[0m\u001b[0mrllib\u001b[0m\u001b[0;34m.\u001b[0m\u001b[0mpolicy\u001b[0m\u001b[0;34m.\u001b[0m\u001b[0mtf_policy_template\u001b[0m \u001b[0;32mimport\u001b[0m \u001b[0mbuild_tf_policy\u001b[0m\u001b[0;34m\u001b[0m\u001b[0;34m\u001b[0m\u001b[0m\n\u001b[0m\u001b[1;32m      7\u001b[0m \u001b[0;34m\u001b[0m\u001b[0m\n\u001b[1;32m      8\u001b[0m __all__ = [\n",
            "\u001b[0;32m/usr/local/lib/python3.10/dist-packages/ray/rllib/policy/tf_policy_template.py\u001b[0m in \u001b[0;36m<module>\u001b[0;34m\u001b[0m\n\u001b[1;32m      5\u001b[0m \u001b[0;32mfrom\u001b[0m \u001b[0mray\u001b[0m\u001b[0;34m.\u001b[0m\u001b[0mrllib\u001b[0m\u001b[0;34m.\u001b[0m\u001b[0mmodels\u001b[0m\u001b[0;34m.\u001b[0m\u001b[0mmodelv2\u001b[0m \u001b[0;32mimport\u001b[0m \u001b[0mModelV2\u001b[0m\u001b[0;34m\u001b[0m\u001b[0;34m\u001b[0m\u001b[0m\n\u001b[1;32m      6\u001b[0m \u001b[0;32mfrom\u001b[0m \u001b[0mray\u001b[0m\u001b[0;34m.\u001b[0m\u001b[0mrllib\u001b[0m\u001b[0;34m.\u001b[0m\u001b[0mpolicy\u001b[0m\u001b[0;34m.\u001b[0m\u001b[0mdynamic_tf_policy\u001b[0m \u001b[0;32mimport\u001b[0m \u001b[0mDynamicTFPolicy\u001b[0m\u001b[0;34m\u001b[0m\u001b[0;34m\u001b[0m\u001b[0m\n\u001b[0;32m----> 7\u001b[0;31m \u001b[0;32mfrom\u001b[0m \u001b[0mray\u001b[0m\u001b[0;34m.\u001b[0m\u001b[0mrllib\u001b[0m\u001b[0;34m.\u001b[0m\u001b[0mpolicy\u001b[0m \u001b[0;32mimport\u001b[0m \u001b[0meager_tf_policy\u001b[0m\u001b[0;34m\u001b[0m\u001b[0;34m\u001b[0m\u001b[0m\n\u001b[0m\u001b[1;32m      8\u001b[0m \u001b[0;32mfrom\u001b[0m \u001b[0mray\u001b[0m\u001b[0;34m.\u001b[0m\u001b[0mrllib\u001b[0m\u001b[0;34m.\u001b[0m\u001b[0mpolicy\u001b[0m\u001b[0;34m.\u001b[0m\u001b[0mpolicy\u001b[0m \u001b[0;32mimport\u001b[0m \u001b[0mPolicy\u001b[0m\u001b[0;34m\u001b[0m\u001b[0;34m\u001b[0m\u001b[0m\n\u001b[1;32m      9\u001b[0m \u001b[0;32mfrom\u001b[0m \u001b[0mray\u001b[0m\u001b[0;34m.\u001b[0m\u001b[0mrllib\u001b[0m\u001b[0;34m.\u001b[0m\u001b[0mpolicy\u001b[0m\u001b[0;34m.\u001b[0m\u001b[0msample_batch\u001b[0m \u001b[0;32mimport\u001b[0m \u001b[0mSampleBatch\u001b[0m\u001b[0;34m\u001b[0m\u001b[0;34m\u001b[0m\u001b[0m\n",
            "\u001b[0;32m/usr/local/lib/python3.10/dist-packages/ray/rllib/policy/eager_tf_policy.py\u001b[0m in \u001b[0;36m<module>\u001b[0;34m\u001b[0m\n\u001b[1;32m     11\u001b[0m \u001b[0;32mimport\u001b[0m \u001b[0mtree\u001b[0m  \u001b[0;31m# pip install dm_tree\u001b[0m\u001b[0;34m\u001b[0m\u001b[0;34m\u001b[0m\u001b[0m\n\u001b[1;32m     12\u001b[0m \u001b[0;34m\u001b[0m\u001b[0m\n\u001b[0;32m---> 13\u001b[0;31m \u001b[0;32mfrom\u001b[0m \u001b[0mray\u001b[0m\u001b[0;34m.\u001b[0m\u001b[0mrllib\u001b[0m\u001b[0;34m.\u001b[0m\u001b[0mevaluation\u001b[0m\u001b[0;34m.\u001b[0m\u001b[0mepisode\u001b[0m \u001b[0;32mimport\u001b[0m \u001b[0mEpisode\u001b[0m\u001b[0;34m\u001b[0m\u001b[0;34m\u001b[0m\u001b[0m\n\u001b[0m\u001b[1;32m     14\u001b[0m \u001b[0;32mfrom\u001b[0m \u001b[0mray\u001b[0m\u001b[0;34m.\u001b[0m\u001b[0mrllib\u001b[0m\u001b[0;34m.\u001b[0m\u001b[0mmodels\u001b[0m\u001b[0;34m.\u001b[0m\u001b[0mcatalog\u001b[0m \u001b[0;32mimport\u001b[0m \u001b[0mModelCatalog\u001b[0m\u001b[0;34m\u001b[0m\u001b[0;34m\u001b[0m\u001b[0m\n\u001b[1;32m     15\u001b[0m \u001b[0;32mfrom\u001b[0m \u001b[0mray\u001b[0m\u001b[0;34m.\u001b[0m\u001b[0mrllib\u001b[0m\u001b[0;34m.\u001b[0m\u001b[0mmodels\u001b[0m\u001b[0;34m.\u001b[0m\u001b[0mrepeated_values\u001b[0m \u001b[0;32mimport\u001b[0m \u001b[0mRepeatedValues\u001b[0m\u001b[0;34m\u001b[0m\u001b[0;34m\u001b[0m\u001b[0m\n",
            "\u001b[0;32m/usr/local/lib/python3.10/dist-packages/ray/rllib/evaluation/__init__.py\u001b[0m in \u001b[0;36m<module>\u001b[0;34m\u001b[0m\n\u001b[1;32m      1\u001b[0m \u001b[0;32mfrom\u001b[0m \u001b[0mray\u001b[0m\u001b[0;34m.\u001b[0m\u001b[0mrllib\u001b[0m\u001b[0;34m.\u001b[0m\u001b[0mevaluation\u001b[0m\u001b[0;34m.\u001b[0m\u001b[0mepisode\u001b[0m \u001b[0;32mimport\u001b[0m \u001b[0mEpisode\u001b[0m\u001b[0;34m,\u001b[0m \u001b[0mMultiAgentEpisode\u001b[0m\u001b[0;34m\u001b[0m\u001b[0;34m\u001b[0m\u001b[0m\n\u001b[0;32m----> 2\u001b[0;31m \u001b[0;32mfrom\u001b[0m \u001b[0mray\u001b[0m\u001b[0;34m.\u001b[0m\u001b[0mrllib\u001b[0m\u001b[0;34m.\u001b[0m\u001b[0mevaluation\u001b[0m\u001b[0;34m.\u001b[0m\u001b[0mrollout_worker\u001b[0m \u001b[0;32mimport\u001b[0m \u001b[0mRolloutWorker\u001b[0m\u001b[0;34m\u001b[0m\u001b[0;34m\u001b[0m\u001b[0m\n\u001b[0m\u001b[1;32m      3\u001b[0m from ray.rllib.evaluation.sample_batch_builder import (\n\u001b[1;32m      4\u001b[0m     \u001b[0mSampleBatchBuilder\u001b[0m\u001b[0;34m,\u001b[0m\u001b[0;34m\u001b[0m\u001b[0;34m\u001b[0m\u001b[0m\n\u001b[1;32m      5\u001b[0m     \u001b[0mMultiAgentSampleBatchBuilder\u001b[0m\u001b[0;34m,\u001b[0m\u001b[0;34m\u001b[0m\u001b[0;34m\u001b[0m\u001b[0m\n",
            "\u001b[0;32m/usr/local/lib/python3.10/dist-packages/ray/rllib/evaluation/rollout_worker.py\u001b[0m in \u001b[0;36m<module>\u001b[0;34m\u001b[0m\n\u001b[1;32m     40\u001b[0m \u001b[0;32mfrom\u001b[0m \u001b[0mray\u001b[0m\u001b[0;34m.\u001b[0m\u001b[0mrllib\u001b[0m\u001b[0;34m.\u001b[0m\u001b[0menv\u001b[0m\u001b[0;34m.\u001b[0m\u001b[0mwrappers\u001b[0m\u001b[0;34m.\u001b[0m\u001b[0matari_wrappers\u001b[0m \u001b[0;32mimport\u001b[0m \u001b[0mis_atari\u001b[0m\u001b[0;34m,\u001b[0m \u001b[0mwrap_deepmind\u001b[0m\u001b[0;34m\u001b[0m\u001b[0;34m\u001b[0m\u001b[0m\n\u001b[1;32m     41\u001b[0m \u001b[0;32mfrom\u001b[0m \u001b[0mray\u001b[0m\u001b[0;34m.\u001b[0m\u001b[0mrllib\u001b[0m\u001b[0;34m.\u001b[0m\u001b[0mevaluation\u001b[0m\u001b[0;34m.\u001b[0m\u001b[0mmetrics\u001b[0m \u001b[0;32mimport\u001b[0m \u001b[0mRolloutMetrics\u001b[0m\u001b[0;34m\u001b[0m\u001b[0;34m\u001b[0m\u001b[0m\n\u001b[0;32m---> 42\u001b[0;31m \u001b[0;32mfrom\u001b[0m \u001b[0mray\u001b[0m\u001b[0;34m.\u001b[0m\u001b[0mrllib\u001b[0m\u001b[0;34m.\u001b[0m\u001b[0mevaluation\u001b[0m\u001b[0;34m.\u001b[0m\u001b[0msampler\u001b[0m \u001b[0;32mimport\u001b[0m \u001b[0mSyncSampler\u001b[0m\u001b[0;34m\u001b[0m\u001b[0;34m\u001b[0m\u001b[0m\n\u001b[0m\u001b[1;32m     43\u001b[0m \u001b[0;32mfrom\u001b[0m \u001b[0mray\u001b[0m\u001b[0;34m.\u001b[0m\u001b[0mrllib\u001b[0m\u001b[0;34m.\u001b[0m\u001b[0mmodels\u001b[0m \u001b[0;32mimport\u001b[0m \u001b[0mModelCatalog\u001b[0m\u001b[0;34m\u001b[0m\u001b[0;34m\u001b[0m\u001b[0m\n\u001b[1;32m     44\u001b[0m \u001b[0;32mfrom\u001b[0m \u001b[0mray\u001b[0m\u001b[0;34m.\u001b[0m\u001b[0mrllib\u001b[0m\u001b[0;34m.\u001b[0m\u001b[0mmodels\u001b[0m\u001b[0;34m.\u001b[0m\u001b[0mpreprocessors\u001b[0m \u001b[0;32mimport\u001b[0m \u001b[0mPreprocessor\u001b[0m\u001b[0;34m\u001b[0m\u001b[0;34m\u001b[0m\u001b[0m\n",
            "\u001b[0;32m/usr/local/lib/python3.10/dist-packages/ray/rllib/evaluation/sampler.py\u001b[0m in \u001b[0;36m<module>\u001b[0;34m\u001b[0m\n\u001b[1;32m     32\u001b[0m \u001b[0;32mfrom\u001b[0m \u001b[0mray\u001b[0m\u001b[0;34m.\u001b[0m\u001b[0mrllib\u001b[0m\u001b[0;34m.\u001b[0m\u001b[0mevaluation\u001b[0m\u001b[0;34m.\u001b[0m\u001b[0mepisode\u001b[0m \u001b[0;32mimport\u001b[0m \u001b[0mEpisode\u001b[0m\u001b[0;34m\u001b[0m\u001b[0;34m\u001b[0m\u001b[0m\n\u001b[1;32m     33\u001b[0m \u001b[0;32mfrom\u001b[0m \u001b[0mray\u001b[0m\u001b[0;34m.\u001b[0m\u001b[0mrllib\u001b[0m\u001b[0;34m.\u001b[0m\u001b[0mevaluation\u001b[0m\u001b[0;34m.\u001b[0m\u001b[0mmetrics\u001b[0m \u001b[0;32mimport\u001b[0m \u001b[0mRolloutMetrics\u001b[0m\u001b[0;34m\u001b[0m\u001b[0;34m\u001b[0m\u001b[0m\n\u001b[0;32m---> 34\u001b[0;31m \u001b[0;32mfrom\u001b[0m \u001b[0mray\u001b[0m\u001b[0;34m.\u001b[0m\u001b[0mrllib\u001b[0m\u001b[0;34m.\u001b[0m\u001b[0moffline\u001b[0m \u001b[0;32mimport\u001b[0m \u001b[0mInputReader\u001b[0m\u001b[0;34m\u001b[0m\u001b[0;34m\u001b[0m\u001b[0m\n\u001b[0m\u001b[1;32m     35\u001b[0m \u001b[0;32mfrom\u001b[0m \u001b[0mray\u001b[0m\u001b[0;34m.\u001b[0m\u001b[0mrllib\u001b[0m\u001b[0;34m.\u001b[0m\u001b[0mpolicy\u001b[0m\u001b[0;34m.\u001b[0m\u001b[0mpolicy\u001b[0m \u001b[0;32mimport\u001b[0m \u001b[0mPolicy\u001b[0m\u001b[0;34m\u001b[0m\u001b[0;34m\u001b[0m\u001b[0m\n\u001b[1;32m     36\u001b[0m \u001b[0;32mfrom\u001b[0m \u001b[0mray\u001b[0m\u001b[0;34m.\u001b[0m\u001b[0mrllib\u001b[0m\u001b[0;34m.\u001b[0m\u001b[0mpolicy\u001b[0m\u001b[0;34m.\u001b[0m\u001b[0mpolicy_map\u001b[0m \u001b[0;32mimport\u001b[0m \u001b[0mPolicyMap\u001b[0m\u001b[0;34m\u001b[0m\u001b[0;34m\u001b[0m\u001b[0m\n",
            "\u001b[0;32m/usr/local/lib/python3.10/dist-packages/ray/rllib/offline/__init__.py\u001b[0m in \u001b[0;36m<module>\u001b[0;34m\u001b[0m\n\u001b[1;32m      1\u001b[0m \u001b[0;32mfrom\u001b[0m \u001b[0mray\u001b[0m\u001b[0;34m.\u001b[0m\u001b[0mrllib\u001b[0m\u001b[0;34m.\u001b[0m\u001b[0moffline\u001b[0m\u001b[0;34m.\u001b[0m\u001b[0md4rl_reader\u001b[0m \u001b[0;32mimport\u001b[0m \u001b[0mD4RLReader\u001b[0m\u001b[0;34m\u001b[0m\u001b[0;34m\u001b[0m\u001b[0m\n\u001b[0;32m----> 2\u001b[0;31m \u001b[0;32mfrom\u001b[0m \u001b[0mray\u001b[0m\u001b[0;34m.\u001b[0m\u001b[0mrllib\u001b[0m\u001b[0;34m.\u001b[0m\u001b[0moffline\u001b[0m\u001b[0;34m.\u001b[0m\u001b[0mdataset_reader\u001b[0m \u001b[0;32mimport\u001b[0m \u001b[0mDatasetReader\u001b[0m\u001b[0;34m,\u001b[0m \u001b[0mget_dataset_and_shards\u001b[0m\u001b[0;34m\u001b[0m\u001b[0;34m\u001b[0m\u001b[0m\n\u001b[0m\u001b[1;32m      3\u001b[0m \u001b[0;32mfrom\u001b[0m \u001b[0mray\u001b[0m\u001b[0;34m.\u001b[0m\u001b[0mrllib\u001b[0m\u001b[0;34m.\u001b[0m\u001b[0moffline\u001b[0m\u001b[0;34m.\u001b[0m\u001b[0mdataset_writer\u001b[0m \u001b[0;32mimport\u001b[0m \u001b[0mDatasetWriter\u001b[0m\u001b[0;34m\u001b[0m\u001b[0;34m\u001b[0m\u001b[0m\n\u001b[1;32m      4\u001b[0m \u001b[0;32mfrom\u001b[0m \u001b[0mray\u001b[0m\u001b[0;34m.\u001b[0m\u001b[0mrllib\u001b[0m\u001b[0;34m.\u001b[0m\u001b[0moffline\u001b[0m\u001b[0;34m.\u001b[0m\u001b[0mio_context\u001b[0m \u001b[0;32mimport\u001b[0m \u001b[0mIOContext\u001b[0m\u001b[0;34m\u001b[0m\u001b[0;34m\u001b[0m\u001b[0m\n\u001b[1;32m      5\u001b[0m \u001b[0;32mfrom\u001b[0m \u001b[0mray\u001b[0m\u001b[0;34m.\u001b[0m\u001b[0mrllib\u001b[0m\u001b[0;34m.\u001b[0m\u001b[0moffline\u001b[0m\u001b[0;34m.\u001b[0m\u001b[0minput_reader\u001b[0m \u001b[0;32mimport\u001b[0m \u001b[0mInputReader\u001b[0m\u001b[0;34m\u001b[0m\u001b[0;34m\u001b[0m\u001b[0m\n",
            "\u001b[0;32m/usr/local/lib/python3.10/dist-packages/ray/rllib/offline/dataset_reader.py\u001b[0m in \u001b[0;36m<module>\u001b[0;34m\u001b[0m\n\u001b[1;32m     10\u001b[0m \u001b[0;32mfrom\u001b[0m \u001b[0mray\u001b[0m\u001b[0;34m.\u001b[0m\u001b[0mrllib\u001b[0m\u001b[0;34m.\u001b[0m\u001b[0moffline\u001b[0m\u001b[0;34m.\u001b[0m\u001b[0minput_reader\u001b[0m \u001b[0;32mimport\u001b[0m \u001b[0mInputReader\u001b[0m\u001b[0;34m\u001b[0m\u001b[0;34m\u001b[0m\u001b[0m\n\u001b[1;32m     11\u001b[0m \u001b[0;32mfrom\u001b[0m \u001b[0mray\u001b[0m\u001b[0;34m.\u001b[0m\u001b[0mrllib\u001b[0m\u001b[0;34m.\u001b[0m\u001b[0moffline\u001b[0m\u001b[0;34m.\u001b[0m\u001b[0mio_context\u001b[0m \u001b[0;32mimport\u001b[0m \u001b[0mIOContext\u001b[0m\u001b[0;34m\u001b[0m\u001b[0;34m\u001b[0m\u001b[0m\n\u001b[0;32m---> 12\u001b[0;31m \u001b[0;32mfrom\u001b[0m \u001b[0mray\u001b[0m\u001b[0;34m.\u001b[0m\u001b[0mrllib\u001b[0m\u001b[0;34m.\u001b[0m\u001b[0moffline\u001b[0m\u001b[0;34m.\u001b[0m\u001b[0mjson_reader\u001b[0m \u001b[0;32mimport\u001b[0m \u001b[0mfrom_json_data\u001b[0m\u001b[0;34m,\u001b[0m \u001b[0mpostprocess_actions\u001b[0m\u001b[0;34m\u001b[0m\u001b[0;34m\u001b[0m\u001b[0m\n\u001b[0m\u001b[1;32m     13\u001b[0m \u001b[0;32mfrom\u001b[0m \u001b[0mray\u001b[0m\u001b[0;34m.\u001b[0m\u001b[0mrllib\u001b[0m\u001b[0;34m.\u001b[0m\u001b[0mpolicy\u001b[0m\u001b[0;34m.\u001b[0m\u001b[0msample_batch\u001b[0m \u001b[0;32mimport\u001b[0m \u001b[0mconcat_samples\u001b[0m\u001b[0;34m,\u001b[0m \u001b[0mSampleBatch\u001b[0m\u001b[0;34m,\u001b[0m \u001b[0mDEFAULT_POLICY_ID\u001b[0m\u001b[0;34m\u001b[0m\u001b[0;34m\u001b[0m\u001b[0m\n\u001b[1;32m     14\u001b[0m \u001b[0;32mfrom\u001b[0m \u001b[0mray\u001b[0m\u001b[0;34m.\u001b[0m\u001b[0mrllib\u001b[0m\u001b[0;34m.\u001b[0m\u001b[0mutils\u001b[0m\u001b[0;34m.\u001b[0m\u001b[0mannotations\u001b[0m \u001b[0;32mimport\u001b[0m \u001b[0moverride\u001b[0m\u001b[0;34m,\u001b[0m \u001b[0mPublicAPI\u001b[0m\u001b[0;34m\u001b[0m\u001b[0;34m\u001b[0m\u001b[0m\n",
            "\u001b[0;32m/usr/local/lib/python3.10/dist-packages/ray/rllib/offline/json_reader.py\u001b[0m in \u001b[0;36m<module>\u001b[0;34m\u001b[0m\n\u001b[1;32m     15\u001b[0m \u001b[0;34m\u001b[0m\u001b[0m\n\u001b[1;32m     16\u001b[0m \u001b[0;32mtry\u001b[0m\u001b[0;34m:\u001b[0m\u001b[0;34m\u001b[0m\u001b[0;34m\u001b[0m\u001b[0m\n\u001b[0;32m---> 17\u001b[0;31m     \u001b[0;32mfrom\u001b[0m \u001b[0msmart_open\u001b[0m \u001b[0;32mimport\u001b[0m \u001b[0msmart_open\u001b[0m\u001b[0;34m\u001b[0m\u001b[0;34m\u001b[0m\u001b[0m\n\u001b[0m\u001b[1;32m     18\u001b[0m \u001b[0;32mexcept\u001b[0m \u001b[0mImportError\u001b[0m\u001b[0;34m:\u001b[0m\u001b[0;34m\u001b[0m\u001b[0;34m\u001b[0m\u001b[0m\n\u001b[1;32m     19\u001b[0m     \u001b[0msmart_open\u001b[0m \u001b[0;34m=\u001b[0m \u001b[0;32mNone\u001b[0m\u001b[0;34m\u001b[0m\u001b[0;34m\u001b[0m\u001b[0m\n",
            "\u001b[0;32m/usr/local/lib/python3.10/dist-packages/smart_open/__init__.py\u001b[0m in \u001b[0;36m<module>\u001b[0;34m\u001b[0m\n\u001b[1;32m     32\u001b[0m \u001b[0;34m\u001b[0m\u001b[0m\n\u001b[1;32m     33\u001b[0m \u001b[0;32mfrom\u001b[0m \u001b[0msmart_open\u001b[0m \u001b[0;32mimport\u001b[0m \u001b[0mversion\u001b[0m  \u001b[0;31m# noqa: E402\u001b[0m\u001b[0;34m\u001b[0m\u001b[0;34m\u001b[0m\u001b[0m\n\u001b[0;32m---> 34\u001b[0;31m \u001b[0;32mfrom\u001b[0m \u001b[0;34m.\u001b[0m\u001b[0msmart_open_lib\u001b[0m \u001b[0;32mimport\u001b[0m \u001b[0mopen\u001b[0m\u001b[0;34m,\u001b[0m \u001b[0mparse_uri\u001b[0m\u001b[0;34m,\u001b[0m \u001b[0msmart_open\u001b[0m\u001b[0;34m,\u001b[0m \u001b[0mregister_compressor\u001b[0m  \u001b[0;31m# noqa: E402\u001b[0m\u001b[0;34m\u001b[0m\u001b[0;34m\u001b[0m\u001b[0m\n\u001b[0m\u001b[1;32m     35\u001b[0m \u001b[0;34m\u001b[0m\u001b[0m\n\u001b[1;32m     36\u001b[0m _WARNING = \"\"\"smart_open.s3_iter_bucket is deprecated and will stop functioning\n",
            "\u001b[0;32m/usr/local/lib/python3.10/dist-packages/smart_open/smart_open_lib.py\u001b[0m in \u001b[0;36m<module>\u001b[0;34m\u001b[0m\n\u001b[1;32m     33\u001b[0m \u001b[0;32mimport\u001b[0m \u001b[0msmart_open\u001b[0m\u001b[0;34m.\u001b[0m\u001b[0mcompression\u001b[0m \u001b[0;32mas\u001b[0m \u001b[0mso_compression\u001b[0m\u001b[0;34m\u001b[0m\u001b[0;34m\u001b[0m\u001b[0m\n\u001b[1;32m     34\u001b[0m \u001b[0;34m\u001b[0m\u001b[0m\n\u001b[0;32m---> 35\u001b[0;31m \u001b[0;32mfrom\u001b[0m \u001b[0msmart_open\u001b[0m \u001b[0;32mimport\u001b[0m \u001b[0mdoctools\u001b[0m\u001b[0;34m\u001b[0m\u001b[0;34m\u001b[0m\u001b[0m\n\u001b[0m\u001b[1;32m     36\u001b[0m \u001b[0;32mfrom\u001b[0m \u001b[0msmart_open\u001b[0m \u001b[0;32mimport\u001b[0m \u001b[0mtransport\u001b[0m\u001b[0;34m\u001b[0m\u001b[0;34m\u001b[0m\u001b[0m\n\u001b[1;32m     37\u001b[0m \u001b[0;34m\u001b[0m\u001b[0m\n",
            "\u001b[0;32m/usr/local/lib/python3.10/dist-packages/smart_open/doctools.py\u001b[0m in \u001b[0;36m<module>\u001b[0;34m\u001b[0m\n\u001b[1;32m     19\u001b[0m \u001b[0;34m\u001b[0m\u001b[0m\n\u001b[1;32m     20\u001b[0m \u001b[0;32mfrom\u001b[0m \u001b[0;34m.\u001b[0m \u001b[0;32mimport\u001b[0m \u001b[0mcompression\u001b[0m\u001b[0;34m\u001b[0m\u001b[0;34m\u001b[0m\u001b[0m\n\u001b[0;32m---> 21\u001b[0;31m \u001b[0;32mfrom\u001b[0m \u001b[0;34m.\u001b[0m \u001b[0;32mimport\u001b[0m \u001b[0mtransport\u001b[0m\u001b[0;34m\u001b[0m\u001b[0;34m\u001b[0m\u001b[0m\n\u001b[0m\u001b[1;32m     22\u001b[0m \u001b[0;34m\u001b[0m\u001b[0m\n\u001b[1;32m     23\u001b[0m \u001b[0mPLACEHOLDER\u001b[0m \u001b[0;34m=\u001b[0m \u001b[0;34m'    smart_open/doctools.py magic goes here'\u001b[0m\u001b[0;34m\u001b[0m\u001b[0;34m\u001b[0m\u001b[0m\n",
            "\u001b[0;32m/usr/local/lib/python3.10/dist-packages/smart_open/transport.py\u001b[0m in \u001b[0;36m<module>\u001b[0;34m\u001b[0m\n\u001b[1;32m     99\u001b[0m \u001b[0mregister_transport\u001b[0m\u001b[0;34m(\u001b[0m\u001b[0;34m\"smart_open.azure\"\u001b[0m\u001b[0;34m)\u001b[0m\u001b[0;34m\u001b[0m\u001b[0;34m\u001b[0m\u001b[0m\n\u001b[1;32m    100\u001b[0m \u001b[0mregister_transport\u001b[0m\u001b[0;34m(\u001b[0m\u001b[0;34m\"smart_open.ftp\"\u001b[0m\u001b[0;34m)\u001b[0m\u001b[0;34m\u001b[0m\u001b[0;34m\u001b[0m\u001b[0m\n\u001b[0;32m--> 101\u001b[0;31m \u001b[0mregister_transport\u001b[0m\u001b[0;34m(\u001b[0m\u001b[0;34m\"smart_open.gcs\"\u001b[0m\u001b[0;34m)\u001b[0m\u001b[0;34m\u001b[0m\u001b[0;34m\u001b[0m\u001b[0m\n\u001b[0m\u001b[1;32m    102\u001b[0m \u001b[0mregister_transport\u001b[0m\u001b[0;34m(\u001b[0m\u001b[0;34m\"smart_open.hdfs\"\u001b[0m\u001b[0;34m)\u001b[0m\u001b[0;34m\u001b[0m\u001b[0;34m\u001b[0m\u001b[0m\n\u001b[1;32m    103\u001b[0m \u001b[0mregister_transport\u001b[0m\u001b[0;34m(\u001b[0m\u001b[0;34m\"smart_open.http\"\u001b[0m\u001b[0;34m)\u001b[0m\u001b[0;34m\u001b[0m\u001b[0;34m\u001b[0m\u001b[0m\n",
            "\u001b[0;32m/usr/local/lib/python3.10/dist-packages/smart_open/transport.py\u001b[0m in \u001b[0;36mregister_transport\u001b[0;34m(submodule)\u001b[0m\n\u001b[1;32m     47\u001b[0m     \u001b[0;32mif\u001b[0m \u001b[0misinstance\u001b[0m\u001b[0;34m(\u001b[0m\u001b[0msubmodule\u001b[0m\u001b[0;34m,\u001b[0m \u001b[0mstr\u001b[0m\u001b[0;34m)\u001b[0m\u001b[0;34m:\u001b[0m\u001b[0;34m\u001b[0m\u001b[0;34m\u001b[0m\u001b[0m\n\u001b[1;32m     48\u001b[0m         \u001b[0;32mtry\u001b[0m\u001b[0;34m:\u001b[0m\u001b[0;34m\u001b[0m\u001b[0;34m\u001b[0m\u001b[0m\n\u001b[0;32m---> 49\u001b[0;31m             \u001b[0msubmodule\u001b[0m \u001b[0;34m=\u001b[0m \u001b[0mimportlib\u001b[0m\u001b[0;34m.\u001b[0m\u001b[0mimport_module\u001b[0m\u001b[0;34m(\u001b[0m\u001b[0msubmodule\u001b[0m\u001b[0;34m)\u001b[0m\u001b[0;34m\u001b[0m\u001b[0;34m\u001b[0m\u001b[0m\n\u001b[0m\u001b[1;32m     50\u001b[0m         \u001b[0;32mexcept\u001b[0m \u001b[0mImportError\u001b[0m\u001b[0;34m:\u001b[0m\u001b[0;34m\u001b[0m\u001b[0;34m\u001b[0m\u001b[0m\n\u001b[1;32m     51\u001b[0m             \u001b[0;32mreturn\u001b[0m\u001b[0;34m\u001b[0m\u001b[0;34m\u001b[0m\u001b[0m\n",
            "\u001b[0;32m/usr/lib/python3.10/importlib/__init__.py\u001b[0m in \u001b[0;36mimport_module\u001b[0;34m(name, package)\u001b[0m\n\u001b[1;32m    124\u001b[0m                 \u001b[0;32mbreak\u001b[0m\u001b[0;34m\u001b[0m\u001b[0;34m\u001b[0m\u001b[0m\n\u001b[1;32m    125\u001b[0m             \u001b[0mlevel\u001b[0m \u001b[0;34m+=\u001b[0m \u001b[0;36m1\u001b[0m\u001b[0;34m\u001b[0m\u001b[0;34m\u001b[0m\u001b[0m\n\u001b[0;32m--> 126\u001b[0;31m     \u001b[0;32mreturn\u001b[0m \u001b[0m_bootstrap\u001b[0m\u001b[0;34m.\u001b[0m\u001b[0m_gcd_import\u001b[0m\u001b[0;34m(\u001b[0m\u001b[0mname\u001b[0m\u001b[0;34m[\u001b[0m\u001b[0mlevel\u001b[0m\u001b[0;34m:\u001b[0m\u001b[0;34m]\u001b[0m\u001b[0;34m,\u001b[0m \u001b[0mpackage\u001b[0m\u001b[0;34m,\u001b[0m \u001b[0mlevel\u001b[0m\u001b[0;34m)\u001b[0m\u001b[0;34m\u001b[0m\u001b[0;34m\u001b[0m\u001b[0m\n\u001b[0m\u001b[1;32m    127\u001b[0m \u001b[0;34m\u001b[0m\u001b[0m\n\u001b[1;32m    128\u001b[0m \u001b[0;34m\u001b[0m\u001b[0m\n",
            "\u001b[0;32m/usr/local/lib/python3.10/dist-packages/smart_open/gcs.py\u001b[0m in \u001b[0;36m<module>\u001b[0;34m\u001b[0m\n\u001b[1;32m     12\u001b[0m \u001b[0;34m\u001b[0m\u001b[0m\n\u001b[1;32m     13\u001b[0m \u001b[0;32mtry\u001b[0m\u001b[0;34m:\u001b[0m\u001b[0;34m\u001b[0m\u001b[0;34m\u001b[0m\u001b[0m\n\u001b[0;32m---> 14\u001b[0;31m     \u001b[0;32mimport\u001b[0m \u001b[0mgoogle\u001b[0m\u001b[0;34m.\u001b[0m\u001b[0mcloud\u001b[0m\u001b[0;34m.\u001b[0m\u001b[0mexceptions\u001b[0m\u001b[0;34m\u001b[0m\u001b[0;34m\u001b[0m\u001b[0m\n\u001b[0m\u001b[1;32m     15\u001b[0m     \u001b[0;32mimport\u001b[0m \u001b[0mgoogle\u001b[0m\u001b[0;34m.\u001b[0m\u001b[0mcloud\u001b[0m\u001b[0;34m.\u001b[0m\u001b[0mstorage\u001b[0m\u001b[0;34m\u001b[0m\u001b[0;34m\u001b[0m\u001b[0m\n\u001b[1;32m     16\u001b[0m     \u001b[0;32mimport\u001b[0m \u001b[0mgoogle\u001b[0m\u001b[0;34m.\u001b[0m\u001b[0mauth\u001b[0m\u001b[0;34m.\u001b[0m\u001b[0mtransport\u001b[0m\u001b[0;34m.\u001b[0m\u001b[0mrequests\u001b[0m\u001b[0;34m\u001b[0m\u001b[0;34m\u001b[0m\u001b[0m\n",
            "\u001b[0;32m/usr/local/lib/python3.10/dist-packages/google/cloud/exceptions/__init__.py\u001b[0m in \u001b[0;36m<module>\u001b[0;34m\u001b[0m\n\u001b[1;32m     22\u001b[0m \u001b[0;32mfrom\u001b[0m \u001b[0m__future__\u001b[0m \u001b[0;32mimport\u001b[0m \u001b[0mabsolute_import\u001b[0m\u001b[0;34m\u001b[0m\u001b[0;34m\u001b[0m\u001b[0m\n\u001b[1;32m     23\u001b[0m \u001b[0;34m\u001b[0m\u001b[0m\n\u001b[0;32m---> 24\u001b[0;31m \u001b[0;32mfrom\u001b[0m \u001b[0mgoogle\u001b[0m\u001b[0;34m.\u001b[0m\u001b[0mapi_core\u001b[0m \u001b[0;32mimport\u001b[0m \u001b[0mexceptions\u001b[0m\u001b[0;34m\u001b[0m\u001b[0;34m\u001b[0m\u001b[0m\n\u001b[0m\u001b[1;32m     25\u001b[0m \u001b[0;34m\u001b[0m\u001b[0m\n\u001b[1;32m     26\u001b[0m \u001b[0;32mtry\u001b[0m\u001b[0;34m:\u001b[0m\u001b[0;34m\u001b[0m\u001b[0;34m\u001b[0m\u001b[0m\n",
            "\u001b[0;32m/usr/local/lib/python3.10/dist-packages/google/api_core/exceptions.py\u001b[0m in \u001b[0;36m<module>\u001b[0;34m\u001b[0m\n\u001b[1;32m     30\u001b[0m \u001b[0;34m\u001b[0m\u001b[0m\n\u001b[1;32m     31\u001b[0m \u001b[0;32mtry\u001b[0m\u001b[0;34m:\u001b[0m\u001b[0;34m\u001b[0m\u001b[0;34m\u001b[0m\u001b[0m\n\u001b[0;32m---> 32\u001b[0;31m     \u001b[0;32mimport\u001b[0m \u001b[0mgrpc\u001b[0m\u001b[0;34m\u001b[0m\u001b[0;34m\u001b[0m\u001b[0m\n\u001b[0m\u001b[1;32m     33\u001b[0m \u001b[0;34m\u001b[0m\u001b[0m\n\u001b[1;32m     34\u001b[0m     \u001b[0;32mtry\u001b[0m\u001b[0;34m:\u001b[0m\u001b[0;34m\u001b[0m\u001b[0;34m\u001b[0m\u001b[0m\n",
            "\u001b[0;32m/usr/local/lib/python3.10/dist-packages/grpc/__init__.py\u001b[0m in \u001b[0;36m<module>\u001b[0;34m\u001b[0m\n\u001b[1;32m     20\u001b[0m \u001b[0;32mimport\u001b[0m \u001b[0msys\u001b[0m\u001b[0;34m\u001b[0m\u001b[0;34m\u001b[0m\u001b[0m\n\u001b[1;32m     21\u001b[0m \u001b[0;34m\u001b[0m\u001b[0m\n\u001b[0;32m---> 22\u001b[0;31m \u001b[0;32mfrom\u001b[0m \u001b[0mgrpc\u001b[0m \u001b[0;32mimport\u001b[0m \u001b[0m_compression\u001b[0m\u001b[0;34m\u001b[0m\u001b[0;34m\u001b[0m\u001b[0m\n\u001b[0m\u001b[1;32m     23\u001b[0m \u001b[0;32mfrom\u001b[0m \u001b[0mgrpc\u001b[0m\u001b[0;34m.\u001b[0m\u001b[0m_cython\u001b[0m \u001b[0;32mimport\u001b[0m \u001b[0mcygrpc\u001b[0m \u001b[0;32mas\u001b[0m \u001b[0m_cygrpc\u001b[0m\u001b[0;34m\u001b[0m\u001b[0;34m\u001b[0m\u001b[0m\n\u001b[1;32m     24\u001b[0m \u001b[0;32mfrom\u001b[0m \u001b[0mgrpc\u001b[0m\u001b[0;34m.\u001b[0m\u001b[0m_runtime_protos\u001b[0m \u001b[0;32mimport\u001b[0m \u001b[0mprotos\u001b[0m\u001b[0;34m\u001b[0m\u001b[0;34m\u001b[0m\u001b[0m\n",
            "\u001b[0;32m/usr/local/lib/python3.10/dist-packages/grpc/_compression.py\u001b[0m in \u001b[0;36m<module>\u001b[0;34m\u001b[0m\n\u001b[1;32m     18\u001b[0m \u001b[0;34m\u001b[0m\u001b[0m\n\u001b[1;32m     19\u001b[0m \u001b[0;32mimport\u001b[0m \u001b[0mgrpc\u001b[0m\u001b[0;34m\u001b[0m\u001b[0;34m\u001b[0m\u001b[0m\n\u001b[0;32m---> 20\u001b[0;31m \u001b[0;32mfrom\u001b[0m \u001b[0mgrpc\u001b[0m\u001b[0;34m.\u001b[0m\u001b[0m_cython\u001b[0m \u001b[0;32mimport\u001b[0m \u001b[0mcygrpc\u001b[0m\u001b[0;34m\u001b[0m\u001b[0;34m\u001b[0m\u001b[0m\n\u001b[0m\u001b[1;32m     21\u001b[0m \u001b[0;32mfrom\u001b[0m \u001b[0mgrpc\u001b[0m\u001b[0;34m.\u001b[0m\u001b[0m_typing\u001b[0m \u001b[0;32mimport\u001b[0m \u001b[0mMetadataType\u001b[0m\u001b[0;34m\u001b[0m\u001b[0;34m\u001b[0m\u001b[0m\n\u001b[1;32m     22\u001b[0m \u001b[0;34m\u001b[0m\u001b[0m\n",
            "\u001b[0;32m/usr/lib/python3.10/importlib/_bootstrap.py\u001b[0m in \u001b[0;36mparent\u001b[0;34m(self)\u001b[0m\n",
            "\u001b[0;31mKeyboardInterrupt\u001b[0m: "
          ]
        }
      ],
      "source": [
        "%%capture\n",
        "from ray.rllib.algorithms.ppo import PPOConfig\n",
        "from ray.tune.logger import pretty_print\n",
        "\n",
        "algo = (\n",
        "    PPOConfig()\n",
        "    .rollouts(num_rollout_workers=1)\n",
        "    .resources(num_gpus=1)\n",
        "    .environment(env=\"MountainCar-v0\")\n",
        "    .build()\n",
        ")\n",
        "\n",
        "for i in range(2):\n",
        "    algo.train()"
      ]
    },
    {
      "cell_type": "code",
      "execution_count": 15,
      "metadata": {
        "id": "sIbqjNVUGC_l",
        "outputId": "e331f17c-9aaa-4deb-ce96-b2b9b3931e97",
        "colab": {
          "base_uri": "https://localhost:8080/",
          "height": 369
        }
      },
      "outputs": [
        {
          "output_type": "stream",
          "name": "stderr",
          "text": [
            "/usr/local/lib/python3.10/dist-packages/ipykernel/ipkernel.py:283: DeprecationWarning: `should_run_async` will not call `transform_cell` automatically in the future. Please pass the result to `transformed_cell` argument and any exception that happen during thetransform in `preprocessing_exc_tuple` in IPython 7.17 and above.\n",
            "  and should_run_async(code)\n"
          ]
        },
        {
          "output_type": "stream",
          "name": "stdout",
          "text": [
            "Moviepy - Building video /content/video/ppo-agent-episode-0.mp4.\n",
            "Moviepy - Writing video /content/video/ppo-agent-episode-0.mp4\n",
            "\n"
          ]
        },
        {
          "output_type": "stream",
          "name": "stderr",
          "text": []
        },
        {
          "output_type": "stream",
          "name": "stdout",
          "text": [
            "Moviepy - Done !\n",
            "Moviepy - video ready /content/video/ppo-agent-episode-0.mp4\n"
          ]
        },
        {
          "output_type": "error",
          "ename": "NameError",
          "evalue": "name 'algo' is not defined",
          "traceback": [
            "\u001b[0;31m---------------------------------------------------------------------------\u001b[0m",
            "\u001b[0;31mNameError\u001b[0m                                 Traceback (most recent call last)",
            "\u001b[0;32m<ipython-input-15-141e214dc4d0>\u001b[0m in \u001b[0;36m<cell line: 7>\u001b[0;34m()\u001b[0m\n\u001b[1;32m      6\u001b[0m \u001b[0;34m\u001b[0m\u001b[0m\n\u001b[1;32m      7\u001b[0m \u001b[0;32mfor\u001b[0m \u001b[0mt\u001b[0m \u001b[0;32min\u001b[0m \u001b[0mrange\u001b[0m\u001b[0;34m(\u001b[0m\u001b[0;36m1000\u001b[0m\u001b[0;34m)\u001b[0m\u001b[0;34m:\u001b[0m\u001b[0;34m\u001b[0m\u001b[0;34m\u001b[0m\u001b[0m\n\u001b[0;32m----> 8\u001b[0;31m     \u001b[0maction\u001b[0m \u001b[0;34m=\u001b[0m \u001b[0malgo\u001b[0m\u001b[0;34m.\u001b[0m\u001b[0mcompute_single_action\u001b[0m\u001b[0;34m(\u001b[0m\u001b[0mstate\u001b[0m\u001b[0;34m)\u001b[0m\u001b[0;34m\u001b[0m\u001b[0;34m\u001b[0m\u001b[0m\n\u001b[0m\u001b[1;32m      9\u001b[0m     \u001b[0mstate\u001b[0m\u001b[0;34m,\u001b[0m \u001b[0mreward\u001b[0m\u001b[0;34m,\u001b[0m \u001b[0mdone\u001b[0m\u001b[0;34m,\u001b[0m \u001b[0m_\u001b[0m\u001b[0;34m,\u001b[0m \u001b[0m_\u001b[0m \u001b[0;34m=\u001b[0m \u001b[0menv\u001b[0m\u001b[0;34m.\u001b[0m\u001b[0mstep\u001b[0m\u001b[0;34m(\u001b[0m\u001b[0maction\u001b[0m\u001b[0;34m)\u001b[0m\u001b[0;34m\u001b[0m\u001b[0;34m\u001b[0m\u001b[0m\n\u001b[1;32m     10\u001b[0m     \u001b[0menv\u001b[0m\u001b[0;34m.\u001b[0m\u001b[0mrender\u001b[0m\u001b[0;34m(\u001b[0m\u001b[0;34m)\u001b[0m\u001b[0;34m\u001b[0m\u001b[0;34m\u001b[0m\u001b[0m\n",
            "\u001b[0;31mNameError\u001b[0m: name 'algo' is not defined"
          ]
        }
      ],
      "source": [
        "env = gym.make(\"MountainCar-v0\", render_mode=\"rgb_array\")\n",
        "env = RecordVideo(env, 'video', name_prefix='ppo-agent')\n",
        "\n",
        "state, _ = env.reset()\n",
        "env.start_video_recorder()\n",
        "\n",
        "for t in range(1000):\n",
        "    action = algo.compute_single_action(state)\n",
        "    state, reward, done, _, _ = env.step(action)\n",
        "    env.render()\n",
        "\n",
        "env.close()\n",
        "view_video('ppo-agent')"
      ]
    },
    {
      "cell_type": "markdown",
      "metadata": {
        "id": "EmxXq6pZGC_l"
      },
      "source": [
        "# 강화 학습 환경 직접 만져보기"
      ]
    },
    {
      "cell_type": "markdown",
      "metadata": {
        "id": "UHwDB4TdGC_l"
      },
      "source": [
        "### 블랙잭"
      ]
    },
    {
      "cell_type": "code",
      "execution_count": 56,
      "metadata": {
        "id": "NFPKoc5lGC_l",
        "outputId": "921a4466-5afd-4214-a403-435e3728f419",
        "colab": {
          "base_uri": "https://localhost:8080/"
        }
      },
      "outputs": [
        {
          "output_type": "stream",
          "name": "stdout",
          "text": [
            "50000 실행 후 19597번 승리, 승률 0.39194\n"
          ]
        }
      ],
      "source": [
        "end=0\n",
        "number1=50000\n",
        "for i in range(number1):\n",
        "    # 블랙잭 환경 생성\n",
        "    env = gym.make('Blackjack-v1')\n",
        "\n",
        "    # 환경 초기화\n",
        "    state, _ = env.reset()\n",
        "    # print(f\"초기 상태: {state}\")\n",
        "\n",
        "    done = False\n",
        "    while not done:\n",
        "        # 랜덤 행동 선택 (for 루프 사용하지 않음)\n",
        "        action = Policy1(state)\n",
        "        # print(f\"액션: {action}\")\n",
        "\n",
        "        # 환경에서 행동 수행\n",
        "        state, reward, done, info, _ = env.step(action)\n",
        "\n",
        "        # 현재 상태, 보상, 게임 종료 여부 출력\n",
        "        # print('상태:', state,'보상:', reward, '게임 종료:', done)\n",
        "\n",
        "    # 환경 닫기\n",
        "    env.close()\n",
        "    if done:\n",
        "        if reward==1.0:\n",
        "            end+=1\n",
        "    # print(\"=\"*20)\n",
        "print(f\"{number1} 실행 후 {end}번 승리, 승률 {end/number1}\")"
      ]
    },
    {
      "cell_type": "code",
      "source": [
        "import random\n",
        "\n",
        "def Policy1(state):\n",
        "    currentSum, dealer, ace=state\n",
        "    rand1=random.randint(1, 12)\n",
        "    if rand1==12:\n",
        "        if currentSum==21:\n",
        "            action=0\n",
        "        else: action=1\n",
        "    elif currentSum>8 and currentSum<12:\n",
        "        if currentSum<12:\n",
        "            action=1\n",
        "        else: action=0\n",
        "    elif currentSum+rand1<21:\n",
        "        action=1\n",
        "    else:\n",
        "        action=0\n",
        "\n",
        "    return action\n"
      ],
      "metadata": {
        "id": "BlNybOEr8Cwl"
      },
      "execution_count": 52,
      "outputs": []
    },
    {
      "cell_type": "markdown",
      "metadata": {
        "id": "cSZPL3-FGC_m"
      },
      "source": [
        "### Tic-Tac-Toe"
      ]
    },
    {
      "cell_type": "code",
      "execution_count": null,
      "metadata": {
        "id": "XUVDProsGC_m"
      },
      "outputs": [],
      "source": [
        "import numpy as np\n",
        "import gymnasium as gym\n",
        "from gymnasium import spaces\n",
        "\n",
        "class TicTacToeEnv(gym.Env):\n",
        "    def __init__(self):\n",
        "        self.board = np.zeros((3, 3), dtype=int)\n",
        "        self.current_player = 1\n",
        "        self.action_space = spaces.Discrete(9)\n",
        "        self.observation_space = spaces.Box(low=0, high=1, shape=(3, 3), dtype=int)\n",
        "\n",
        "    def reset(self):\n",
        "        self.board = np.zeros((3, 3), dtype=int)\n",
        "        self.current_player = 1\n",
        "        return self.board\n",
        "\n",
        "    def step(self, action):\n",
        "        row = action // 3\n",
        "        col = action % 3\n",
        "\n",
        "        if self.board[row, col] != 0:\n",
        "            return self.board, -1, False, False, {}\n",
        "\n",
        "        self.board[row, col] = self.current_player\n",
        "\n",
        "        if self._check_winner(self.current_player):\n",
        "            return self.board, 1, True, False, {}\n",
        "\n",
        "        if np.count_nonzero(self.board) == 9:\n",
        "            return self.board, 0, True, False, {}\n",
        "\n",
        "        self.current_player = -self.current_player\n",
        "        return self.board, 0, False, False, {}\n",
        "\n",
        "    def render(self):\n",
        "        print(self.board)\n",
        "\n",
        "    def _check_winner(self, player):\n",
        "        for i in range(3):\n",
        "            if np.all(self.board[i, :] == player) or np.all(self.board[:, i] == player):\n",
        "                return True\n",
        "        if np.all(np.diag(self.board) == player) or np.all(np.diag(np.fliplr(self.board)) == player):\n",
        "            return True\n",
        "        return False"
      ]
    },
    {
      "cell_type": "code",
      "source": [
        "class Policy1():\n",
        "    def __init__(self, action_space):\n",
        "        self.action_space = action_space\n",
        "        self.name=\"Policy1()\"\n",
        "\n",
        "    def __call__(self, state):\n",
        "\n",
        "        return state"
      ],
      "metadata": {
        "id": "jaqS_0da1Drs"
      },
      "execution_count": null,
      "outputs": []
    },
    {
      "cell_type": "code",
      "execution_count": null,
      "metadata": {
        "id": "QOMu0_XgGC_m"
      },
      "outputs": [],
      "source": [
        "env = TicTacToeEnv()\n",
        "state = env.reset()\n",
        "env.render()\n",
        "import random\n",
        "\n",
        "done = False\n",
        "# while not done:\n",
        "for i in range(9):\n",
        "    action = random.randint(1,10)\n",
        "    state, reward, done, _, _ = env.step(action)\n",
        "    env.render()"
      ]
    }
  ],
  "metadata": {
    "accelerator": "GPU",
    "colab": {
      "gpuType": "T4",
      "provenance": [],
      "collapsed_sections": [
        "cSZPL3-FGC_m"
      ]
    },
    "kernelspec": {
      "display_name": "Python 3",
      "name": "python3"
    },
    "language_info": {
      "codemirror_mode": {
        "name": "ipython",
        "version": 3
      },
      "file_extension": ".py",
      "mimetype": "text/x-python",
      "name": "python",
      "nbconvert_exporter": "python",
      "pygments_lexer": "ipython3",
      "version": "3.9.6"
    }
  },
  "nbformat": 4,
  "nbformat_minor": 0
}