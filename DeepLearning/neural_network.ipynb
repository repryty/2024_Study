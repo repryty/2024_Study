{
 "cells": [
  {
   "cell_type": "markdown",
   "metadata": {},
   "source": [
    "# 인공 신경망 구조 이해하기"
   ]
  },
  {
   "cell_type": "code",
   "execution_count": 2,
   "metadata": {},
   "outputs": [
    {
     "name": "stdout",
     "output_type": "stream",
     "text": [
      "Collecting matplotlib\n",
      "  Downloading matplotlib-3.8.4-cp312-cp312-win_amd64.whl.metadata (5.9 kB)\n",
      "Collecting contourpy>=1.0.1 (from matplotlib)\n",
      "  Downloading contourpy-1.2.1-cp312-cp312-win_amd64.whl.metadata (5.8 kB)\n",
      "Collecting cycler>=0.10 (from matplotlib)\n",
      "  Downloading cycler-0.12.1-py3-none-any.whl.metadata (3.8 kB)\n",
      "Collecting fonttools>=4.22.0 (from matplotlib)\n",
      "  Downloading fonttools-4.51.0-cp312-cp312-win_amd64.whl.metadata (162 kB)\n",
      "     ---------------------------------------- 0.0/162.8 kB ? eta -:--:--\n",
      "     -- ------------------------------------- 10.2/162.8 kB ? eta -:--:--\n",
      "     ---------------------- ---------------- 92.2/162.8 kB 1.3 MB/s eta 0:00:01\n",
      "     -------------------------------------- 162.8/162.8 kB 1.6 MB/s eta 0:00:00\n",
      "Collecting kiwisolver>=1.3.1 (from matplotlib)\n",
      "  Downloading kiwisolver-1.4.5-cp312-cp312-win_amd64.whl.metadata (6.5 kB)\n",
      "Requirement already satisfied: numpy>=1.21 in c:\\users\\repry\\appdata\\local\\programs\\python\\python312\\lib\\site-packages (from matplotlib) (1.26.3)\n",
      "Requirement already satisfied: packaging>=20.0 in c:\\users\\repry\\appdata\\local\\programs\\python\\python312\\lib\\site-packages (from matplotlib) (24.0)\n",
      "Requirement already satisfied: pillow>=8 in c:\\users\\repry\\appdata\\local\\programs\\python\\python312\\lib\\site-packages (from matplotlib) (10.2.0)\n",
      "Collecting pyparsing>=2.3.1 (from matplotlib)\n",
      "  Downloading pyparsing-3.1.2-py3-none-any.whl.metadata (5.1 kB)\n",
      "Requirement already satisfied: python-dateutil>=2.7 in c:\\users\\repry\\appdata\\roaming\\python\\python312\\site-packages (from matplotlib) (2.9.0.post0)\n",
      "Requirement already satisfied: six>=1.5 in c:\\users\\repry\\appdata\\local\\programs\\python\\python312\\lib\\site-packages (from python-dateutil>=2.7->matplotlib) (1.16.0)\n",
      "Downloading matplotlib-3.8.4-cp312-cp312-win_amd64.whl (7.7 MB)\n",
      "   ---------------------------------------- 0.0/7.7 MB ? eta -:--:--\n",
      "   - -------------------------------------- 0.3/7.7 MB 7.0 MB/s eta 0:00:02\n",
      "   ---- ----------------------------------- 0.9/7.7 MB 10.8 MB/s eta 0:00:01\n",
      "   ---------- ----------------------------- 2.0/7.7 MB 16.1 MB/s eta 0:00:01\n",
      "   ------------------- -------------------- 3.8/7.7 MB 22.1 MB/s eta 0:00:01\n",
      "   -------------------------- ------------- 5.1/7.7 MB 23.2 MB/s eta 0:00:01\n",
      "   -------------------------------------- - 7.5/7.7 MB 29.8 MB/s eta 0:00:01\n",
      "   ---------------------------------------  7.5/7.7 MB 25.2 MB/s eta 0:00:01\n",
      "   ---------------------------------------  7.6/7.7 MB 21.0 MB/s eta 0:00:01\n",
      "   ---------------------------------------  7.6/7.7 MB 18.8 MB/s eta 0:00:01\n",
      "   ---------------------------------------  7.7/7.7 MB 17.5 MB/s eta 0:00:01\n",
      "   ---------------------------------------- 7.7/7.7 MB 16.3 MB/s eta 0:00:00\n",
      "Downloading contourpy-1.2.1-cp312-cp312-win_amd64.whl (189 kB)\n",
      "   ---------------------------------------- 0.0/189.9 kB ? eta -:--:--\n",
      "   ---------------------------------------- 189.9/189.9 kB ? eta 0:00:00\n",
      "Downloading cycler-0.12.1-py3-none-any.whl (8.3 kB)\n",
      "Downloading fonttools-4.51.0-cp312-cp312-win_amd64.whl (2.2 MB)\n",
      "   ---------------------------------------- 0.0/2.2 MB ? eta -:--:--\n",
      "   ---------------------------------------  2.2/2.2 MB 46.0 MB/s eta 0:00:01\n",
      "   ---------------------------------------- 2.2/2.2 MB 34.9 MB/s eta 0:00:00\n",
      "Downloading kiwisolver-1.4.5-cp312-cp312-win_amd64.whl (56 kB)\n",
      "   ---------------------------------------- 0.0/56.0 kB ? eta -:--:--\n",
      "   ---------------------------------------- 56.0/56.0 kB ? eta 0:00:00\n",
      "Downloading pyparsing-3.1.2-py3-none-any.whl (103 kB)\n",
      "   ---------------------------------------- 0.0/103.2 kB ? eta -:--:--\n",
      "   ---------------------------------------- 103.2/103.2 kB 5.8 MB/s eta 0:00:00\n",
      "Installing collected packages: pyparsing, kiwisolver, fonttools, cycler, contourpy, matplotlib\n",
      "Successfully installed contourpy-1.2.1 cycler-0.12.1 fonttools-4.51.0 kiwisolver-1.4.5 matplotlib-3.8.4 pyparsing-3.1.2\n"
     ]
    }
   ],
   "source": [
    "!pip install matplotlib"
   ]
  },
  {
   "cell_type": "code",
   "execution_count": 4,
   "metadata": {},
   "outputs": [
    {
     "name": "stdout",
     "output_type": "stream",
     "text": [
      "tensor([[ 0.2568],\n",
      "        [-0.5326],\n",
      "        [ 0.5492],\n",
      "        [-0.4048],\n",
      "        [-0.2752],\n",
      "        [-0.9505]])\n",
      "tensor([ 0.7266, -0.6060,  0.8176,  0.3272,  0.5392, -0.9395])\n"
     ]
    }
   ],
   "source": [
    "import torch\n",
    "import torch.nn as nn\n",
    "import torch.nn.functional as F\n",
    "import random\n",
    "\n",
    "# Write neural network code\n",
    "class NeuralNetwork(nn.Module):\n",
    "\n",
    "    def __init__(self):\n",
    "        super(NeuralNetwork, self).__init__()\n",
    "        self.input_layer = nn.Linear(1, 6)\n",
    "        self.activation = nn.ReLU()\n",
    "        self.output_layer = nn.Linear(6, 1)\n",
    "        \n",
    "    def forward(self, x):\n",
    "        x = self.input_layer(x)\n",
    "        x = self.activation(x)\n",
    "        x = self.output_layer(x)\n",
    "        return x\n",
    "\n",
    "# Define the network and the loss function.\n",
    "network = NeuralNetwork()\n",
    "loss_function = nn.MSELoss()\n",
    "\n",
    "# Steps for gradient descent.\n",
    "# 'lr' stands for learning rate.\n",
    "optimizer = torch.optim.Adam(network.parameters(), lr=0.001)\n",
    "\n",
    "# Training one step with sample data\n",
    "x = torch.Tensor([1])\n",
    "y = x**3 + x**2 - x - 1\n",
    "\n",
    "\n",
    "optimizer.zero_grad()\n",
    "output = network(x)\n",
    "loss = loss_function(y, output)\n",
    "loss.backward()\n",
    "optimizer.step()\n",
    "\n",
    "# Check parameters\n",
    "parameters = network.input_layer.state_dict()\n",
    "w = parameters['weight']  # e.g. [-5, -1.2, 1.2, 1.2, 2, 5]\n",
    "b = parameters['bias']  # e.g. [-7.7, -1.3, 1, -0.2, -1.1, -5]\n",
    "print(w)\n",
    "print(b)"
   ]
  },
  {
   "cell_type": "code",
   "execution_count": 10,
   "metadata": {},
   "outputs": [
    {
     "name": "stderr",
     "output_type": "stream",
     "text": [
      "Loss: 0.849: 100%|██████████| 10000/10000 [00:06<00:00, 1579.75it/s]\n"
     ]
    }
   ],
   "source": [
    "from tqdm import tqdm\n",
    "import matplotlib.pyplot as plt\n",
    "\n",
    "# Define the network and the loss function.\n",
    "network = NeuralNetwork()\n",
    "loss_function = nn.MSELoss()\n",
    "optimizer = torch.optim.Adam(network.parameters(), lr=0.01)\n",
    "\n",
    "pbar = tqdm(range(10000), desc=\"Loss: --\")\n",
    "for epoch in pbar:\n",
    "    x = torch.randn(1)\n",
    "    y = x**3 + x**2 - x - 1\n",
    "\n",
    "    optimizer.zero_grad()\n",
    "    output = network(x)\n",
    "    loss = loss_function(y, output)\n",
    "    loss.backward()\n",
    "    optimizer.step()\n",
    "    \n",
    "    if epoch % 100 == 0:\n",
    "        pbar.set_description(f\"Loss: {loss.item():.3f}\")"
   ]
  },
  {
   "cell_type": "code",
   "execution_count": 11,
   "metadata": {},
   "outputs": [
    {
     "data": {
      "image/png": "[encoded data removed]",
      "text/plain": [
       "<Figure size 640x480 with 1 Axes>"
      ]
     },
     "metadata": {},
     "output_type": "display_data"
    }
   ],
   "source": [
    "# plot the result\n",
    "x_lim = 3\n",
    "num_points = 100\n",
    "\n",
    "x = torch.linspace(-x_lim, x_lim, num_points)\n",
    "y = x**3 + x**2 - x - 1\n",
    "plt.plot(x, y, label=\"ground truth\", color=\"black\")\n",
    "plt.plot(x, network(x[:, None]).detach().numpy(), label=\"prediction\", color=\"red\")\n",
    "plt.legend()\n",
    "plt.show()"
   ]
  }
 ],
 "metadata": {
  "kernelspec": {
   "display_name": "rllib",
   "language": "python",
   "name": "python3"
  },
  "language_info": {
   "codemirror_mode": {
    "name": "ipython",
    "version": 3
   },
   "file_extension": ".py",
   "mimetype": "text/x-python",
   "name": "python",
   "nbconvert_exporter": "python",
   "pygments_lexer": "ipython3",
   "version": "3.12.1"
  }
 },
 "nbformat": 4,
 "nbformat_minor": 2
}
