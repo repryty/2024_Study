{
 "cells": [
  {
   "cell_type": "markdown",
   "metadata": {},
   "source": [
    "# 인공 신경망 구조 이해하기"
   ]
  },
  {
   "cell_type": "code",
   "execution_count": 1,
   "metadata": {},
   "outputs": [
    {
     "name": "stdout",
     "output_type": "stream",
     "text": [
      "Requirement already satisfied: matplotlib in c:\\users\\repry\\appdata\\local\\programs\\python\\python312\\lib\\site-packages (3.8.4)\n",
      "Requirement already satisfied: contourpy>=1.0.1 in c:\\users\\repry\\appdata\\local\\programs\\python\\python312\\lib\\site-packages (from matplotlib) (1.2.1)\n",
      "Requirement already satisfied: cycler>=0.10 in c:\\users\\repry\\appdata\\local\\programs\\python\\python312\\lib\\site-packages (from matplotlib) (0.12.1)\n",
      "Requirement already satisfied: fonttools>=4.22.0 in c:\\users\\repry\\appdata\\local\\programs\\python\\python312\\lib\\site-packages (from matplotlib) (4.51.0)\n",
      "Requirement already satisfied: kiwisolver>=1.3.1 in c:\\users\\repry\\appdata\\local\\programs\\python\\python312\\lib\\site-packages (from matplotlib) (1.4.5)\n",
      "Requirement already satisfied: numpy>=1.21 in c:\\users\\repry\\appdata\\local\\programs\\python\\python312\\lib\\site-packages (from matplotlib) (1.26.3)\n",
      "Requirement already satisfied: packaging>=20.0 in c:\\users\\repry\\appdata\\local\\programs\\python\\python312\\lib\\site-packages (from matplotlib) (24.0)\n",
      "Requirement already satisfied: pillow>=8 in c:\\users\\repry\\appdata\\local\\programs\\python\\python312\\lib\\site-packages (from matplotlib) (10.2.0)\n",
      "Requirement already satisfied: pyparsing>=2.3.1 in c:\\users\\repry\\appdata\\local\\programs\\python\\python312\\lib\\site-packages (from matplotlib) (3.1.2)\n",
      "Requirement already satisfied: python-dateutil>=2.7 in c:\\users\\repry\\appdata\\roaming\\python\\python312\\site-packages (from matplotlib) (2.9.0.post0)\n",
      "Requirement already satisfied: six>=1.5 in c:\\users\\repry\\appdata\\local\\programs\\python\\python312\\lib\\site-packages (from python-dateutil>=2.7->matplotlib) (1.16.0)\n"
     ]
    }
   ],
   "source": [
    "!pip install matplotlib"
   ]
  },
  {
   "cell_type": "code",
   "execution_count": 84,
   "metadata": {},
   "outputs": [
    {
     "name": "stdout",
     "output_type": "stream",
     "text": [
      "tensor([[ 0.0193],\n",
      "        [-0.4860],\n",
      "        [ 0.9770],\n",
      "        [-0.4797],\n",
      "        [ 0.6803],\n",
      "        [ 0.2290],\n",
      "        [-0.5530],\n",
      "        [-0.7889],\n",
      "        [-0.3448],\n",
      "        [-0.7135],\n",
      "        [-0.3147],\n",
      "        [ 0.7574],\n",
      "        [ 0.1127],\n",
      "        [ 0.7387],\n",
      "        [-0.7243],\n",
      "        [ 0.6448],\n",
      "        [-0.1312],\n",
      "        [-0.2319],\n",
      "        [ 0.5790],\n",
      "        [ 0.7502],\n",
      "        [ 0.2647],\n",
      "        [-0.5197],\n",
      "        [-0.0355],\n",
      "        [ 0.6286]])\n",
      "tensor([ 0.2913,  0.7579, -0.3823, -0.1772,  0.4321, -0.8709, -0.9023,  0.3994,\n",
      "         0.7638, -0.9527,  0.5804,  0.3311,  0.2443, -0.2111,  0.5002, -0.1850,\n",
      "        -0.7316,  0.3257,  0.4239,  0.5104,  0.9099,  0.0846,  0.1105, -0.8356])\n"
     ]
    }
   ],
   "source": [
    "import torch\n",
    "import torch.nn as nn\n",
    "import torch.nn.functional as F\n",
    "import random\n",
    "\n",
    "# Write neural network code\n",
    "class NeuralNetwork(nn.Module):\n",
    "\n",
    "    def __init__(self):\n",
    "        super(NeuralNetwork, self).__init__()\n",
    "        self.input_layer = nn.Linear(1, 24)\n",
    "        self.activation = nn.ReLU()\n",
    "        self.hidden_layers = [nn.Linear(24, 24) for _ in range(5)]\n",
    "        self.output_layer = nn.Linear(24, 1)\n",
    "        \n",
    "    def forward(self, x):\n",
    "        x = self.input_layer(x)\n",
    "        x = self.activation(x)\n",
    "        for i in self.hidden_layers:\n",
    "            i(x)\n",
    "            self.activation(x)\n",
    "        x = self.output_layer(x)\n",
    "        return x\n",
    "\n",
    "# Define the network and the loss function.\n",
    "network = NeuralNetwork()\n",
    "loss_function = nn.MSELoss()\n",
    "\n",
    "# Steps for gradient descent.\n",
    "# 'lr' stands for learning rate.\n",
    "optimizer = torch.optim.Adam(network.parameters(), lr=0.001)\n",
    "\n",
    "# Training one step with sample data\n",
    "x = torch.Tensor([1])\n",
    "y = x**3 + x**2 - x - 1\n",
    "\n",
    "\n",
    "optimizer.zero_grad()\n",
    "output = network(x)\n",
    "loss = loss_function(y, output)\n",
    "loss.backward()\n",
    "optimizer.step()\n",
    "\n",
    "# Check parameters\n",
    "parameters = network.input_layer.state_dict()\n",
    "w = parameters['weight']  # e.g. [-5, -1.2, 1.2, 1.2, 2, 5]\n",
    "b = parameters['bias']  # e.g. [-7.7, -1.3, 1, -0.2, -1.1, -5]\n",
    "print(w)\n",
    "print(b)"
   ]
  },
  {
   "cell_type": "code",
   "execution_count": 85,
   "metadata": {},
   "outputs": [
    {
     "name": "stderr",
     "output_type": "stream",
     "text": [
      "Loss: 1.196: 100%|██████████| 10000/10000 [00:07<00:00, 1314.00it/s] \n"
     ]
    }
   ],
   "source": [
    "from tqdm import tqdm\n",
    "import matplotlib.pyplot as plt\n",
    "\n",
    "# Define the network and the loss function.\n",
    "network = NeuralNetwork()\n",
    "loss_function = nn.MSELoss()\n",
    "optimizer = torch.optim.Adam(network.parameters(), lr=0.01)\n",
    "\n",
    "pbar = tqdm(range(10000), desc=\"Loss: --\")\n",
    "for epoch in pbar:\n",
    "    x = (torch.rand(1)-0.5)*10\n",
    "    y = x**3 + x**2 - x - 1\n",
    "    # y = x**4-14*x**3-83*x**2+168*x+540\n",
    "\n",
    "    optimizer.zero_grad()\n",
    "    output = network(x)\n",
    "    loss = loss_function(y, output)\n",
    "    loss.backward()\n",
    "    optimizer.step()\n",
    "    \n",
    "    if epoch % 100 == 0:\n",
    "        pbar.set_description(f\"Loss: {loss.item():.3f}\")"
   ]
  },
  {
   "cell_type": "code",
   "execution_count": 86,
   "metadata": {},
   "outputs": [
    {
     "data": {
      "image/png": "[encoded data removed]",
      "text/plain": [
       "<Figure size 640x480 with 1 Axes>"
      ]
     },
     "metadata": {},
     "output_type": "display_data"
    }
   ],
   "source": [
    "# plot the result\n",
    "x_lim = 5\n",
    "num_points = 100\n",
    "\n",
    "x = torch.linspace(-x_lim, x_lim, num_points)\n",
    "y = x**3 + x**2 - x - 1\n",
    "# y= x**4-14*x**3-83*x**2+168*x+540\n",
    "plt.plot(x, y, label=\"ground truth\", color=\"black\")\n",
    "plt.plot(x, network(x[:, None]).detach().numpy(), label=\"prediction\", color=\"red\")\n",
    "plt.legend()\n",
    "plt.show()"
   ]
  }
 ],
 "metadata": {
  "kernelspec": {
   "display_name": "rllib",
   "language": "python",
   "name": "python3"
  },
  "language_info": {
   "codemirror_mode": {
    "name": "ipython",
    "version": 3
   },
   "file_extension": ".py",
   "mimetype": "text/x-python",
   "name": "python",
   "nbconvert_exporter": "python",
   "pygments_lexer": "ipython3",
   "version": "3.12.1"
  }
 },
 "nbformat": 4,
 "nbformat_minor": 2
}
