{
 "cells": [
  {
   "cell_type": "markdown",
   "metadata": {},
   "source": [
    "# 생각할것\n",
    "- 상태는 어떻게 표현\n",
    "- 행동?\n",
    "- 환경은 어떻게 바뀔까\n",
    "- 보상?\n",
    "- 목표?\n",
    "- 보상을 많이받음=목표?\n",
    "## 추가\n",
    "- 왜?\n",
    "- 다른 방법?"
   ]
  },
  {
   "cell_type": "markdown",
   "metadata": {},
   "source": [
    "# 문서 방향 인식\n",
    "## 상태\n",
    "이미지 입력 => 상태\n",
    "## 행동\n",
    "돌린다 or 안돌린다\n",
    "## 환경의 변화\n",
    "환경 없음\n",
    "## 보상\n",
    "사용자가 이미지를 직접 돌려서 방향을 맞춘다 => -1   \n",
    "그렇지 않는다 => 0\n",
    "- 귀찮아서 안돌릴 가능성이 있기때문\n",
    "# 목표\n",
    "사용자가 이미지를 직접 돌리지 않도록 한다\n",
    "- 보상의 최대화 = 이미지를 돌리지않음 = 성공\n",
    "\n",
    "# 문제?\n",
    "막 이상하게돌리면 막막 "
   ]
  },
  {
   "cell_type": "markdown",
   "metadata": {},
   "source": [
    "### 상태\n",
    "이미지 라이브러리를 사용해서 상태에 이미지 정보를 담은 배열이 들어간다. \n",
    "### 행동\n",
    "0: 돌리지 않기\n",
    "1: 오른쪽으로 돌리기\n",
    "### 보상\n",
    "사용자가 사진을 돌린다면?\n",
    "사용자가 돌린 방향(정확한 방향)과 지금 돌아간 방향을 비교해 그 차이에 따라 90도는 -1, 180도는 -2의 식으로 지급한다.\n",
    "사용자가 돌리지 않는경우, `제대로 돌렸거나 / 귀찮아서 돌리지 않았거나`의 경우가 있다. 그러나 이를 구분할수 없기 때문에 같은것으로 취급, 0의 보상을 지급한다.\n",
    "### 목표\n",
    "보상의 최대화, 즉 돌려준 사진이 사용자가 원한만큼 돌아갈수 있도록한다.\n",
    "### 보상을 많이 받을수록 목표를 빠르게 이룰까?\n",
    "여기서 보상을 많이 받는 경우는 사용자가 원하는 이미지가 많이 나올수록 많이 받게된다.\n",
    "따라서 보상이 많을수록 목표를 이루게된다.\n",
    "### 목표와 관련\n"
   ]
  },
  {
   "cell_type": "code",
   "execution_count": 3,
   "metadata": {},
   "outputs": [],
   "source": [
    "from PIL import Image\n",
    "import numpy as np\n",
    "import random\n",
    "import copy\n",
    "import matplotlib.pyplot as plt"
   ]
  },
  {
   "cell_type": "code",
   "execution_count": 11,
   "metadata": {},
   "outputs": [],
   "source": [
    "class DocuDirectionEnv:\n",
    "    def __init__(self):\n",
    "        # rooms = list(range(101, 107))\n",
    "        # self.state_space = [(i, j) for i in rooms for j in rooms]\n",
    "        self.action_space = [0, 1]\n",
    "\n",
    "    # def transition(self, state, action): # 상태, 행동\n",
    "    #     current_location, my_room = state\n",
    "    #     next_location = current_location + action \n",
    "    #     next_location = max(next_location, 101) \n",
    "    #     next_location = min(next_location, 106)\n",
    "    #     next_state = (next_location, my_room)\n",
    "    #     return next_state\n",
    "\n",
    "    def reward_function(self, state): #사용자가 돌렸는가?(원본이미지와 차이있나?)\n",
    "        # next_state = transition(state, action)\n",
    "        # next_location, my_room = next_state\n",
    "        # if next_location == my_room:\n",
    "        #     return 1\n",
    "        # return 0\n",
    "        if (np.rot90(state, 1)==self.original_state).all():\n",
    "            return -1\n",
    "        elif (np.rot90(state, 2)==self.original_state).all():\n",
    "            return -2\n",
    "        elif (np.rot90(state, 3)==self.original_state).all():\n",
    "            return -1\n",
    "        else:\n",
    "            return 0\n",
    "\n",
    "\n",
    "\n",
    "    def reset(self):\n",
    "        # same_start_and_end = False\n",
    "        # while not same_start_and_end:\n",
    "        #     state = random.choice(self.state_space)\n",
    "        #     same_start_and_end = state[0] != state[1]\n",
    "        # self.state = state\n",
    "        # return state\n",
    "        state = np.array([[[random.choice([0,255])]*3 for ii in range(10)] for iii in range(10)]) # 512x512의 노이즈 이미지\n",
    "\n",
    "        original_state = copy.copy(state)\n",
    "        # state = np.rot90(state, random.randint(0, 3))\n",
    "        state = np.rot90(state, 2) # 테스트용\n",
    "        self.state=state\n",
    "        self.original_state= original_state\n",
    "        return state, original_state\n",
    "        \n",
    "\n",
    "    def step(self, action): # action = 0 or 1\n",
    "        # next_state = self.transition(self.state, action)\n",
    "        # reward = self.reward_function(self.state, action)\n",
    "        # if action==3: done = (next_state[0]==next_state[1])\n",
    "        # self.state = next_state\n",
    "        # return next_state, reward, done\n",
    "        if action==0:\n",
    "            done = True\n",
    "            next_state=self.state\n",
    "        else:\n",
    "            next_state=np.rot90(self.state, 1)\n",
    "            done=False\n",
    "\n",
    "        reward=self.reward_function(next_state)\n",
    "\n",
    "        self.state=next_state\n",
    "\n",
    "        return next_state, reward, done\n",
    "    \n",
    "# 0을고르면 그만하면 된다"
   ]
  },
  {
   "cell_type": "code",
   "execution_count": 17,
   "metadata": {},
   "outputs": [
    {
     "data": {
      "image/png": "[encoded data removed]",
      "text/plain": [
       "<Figure size 640x480 with 1 Axes>"
      ]
     },
     "metadata": {},
     "output_type": "display_data"
    },
    {
     "data": {
      "image/png": "[encoded data removed]",
      "text/plain": [
       "<Figure size 640x480 with 1 Axes>"
      ]
     },
     "metadata": {},
     "output_type": "display_data"
    },
    {
     "name": "stdout",
     "output_type": "stream",
     "text": [
      "Chose action: 1\n"
     ]
    },
    {
     "data": {
      "image/png": "[encoded data removed]",
      "text/plain": [
       "<Figure size 640x480 with 1 Axes>"
      ]
     },
     "metadata": {},
     "output_type": "display_data"
    },
    {
     "name": "stdout",
     "output_type": "stream",
     "text": [
      "Reward: -1\n",
      "==========\n",
      "Chose action: 1\n"
     ]
    },
    {
     "data": {
      "image/png": "[encoded data removed]",
      "text/plain": [
       "<Figure size 640x480 with 1 Axes>"
      ]
     },
     "metadata": {},
     "output_type": "display_data"
    },
    {
     "name": "stdout",
     "output_type": "stream",
     "text": [
      "Reward: 0\n",
      "==========\n",
      "2\n"
     ]
    }
   ],
   "source": [
    "env = DocuDirectionEnv()\n",
    "state, original_state = env.reset()\n",
    "done = False\n",
    "# print(\"Initial state:\", state)\n",
    "plt.imshow(original_state)\n",
    "plt.show()\n",
    "plt.imshow(state)\n",
    "plt.show()\n",
    "a=0\n",
    "# while not done\n",
    "for i in range(2):\n",
    "    a+=1\n",
    "    # action = random.choice(env.action_space)\n",
    "    action =min(1, 2-i)\n",
    "    print(\"Chose action:\", action)\n",
    "    state, reward, done = env.step(action)\n",
    "    plt.imshow(state)\n",
    "    plt.show()\n",
    "    # print(\"New state:\", state)\n",
    "    print(\"Reward:\", reward)\n",
    "    print(\"=\"*10)\n",
    "    \n",
    "print(a)"
   ]
  }
 ],
 "metadata": {
  "kernelspec": {
   "display_name": "Python 3",
   "language": "python",
   "name": "python3"
  },
  "language_info": {
   "codemirror_mode": {
    "name": "ipython",
    "version": 3
   },
   "file_extension": ".py",
   "mimetype": "text/x-python",
   "name": "python",
   "nbconvert_exporter": "python",
   "pygments_lexer": "ipython3",
   "version": "3.12.2"
  }
 },
 "nbformat": 4,
 "nbformat_minor": 2
}
