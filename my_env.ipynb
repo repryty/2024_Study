{
 "cells": [
  {
   "cell_type": "markdown",
   "metadata": {},
   "source": [
    "# 생각할것\n",
    "- 상태는 어떻게 표현\n",
    "- 행동?\n",
    "- 환경은 어떻게 바뀔까\n",
    "- 보상?\n",
    "- 목표?\n",
    "- 보상을 많이받음=목표?\n",
    "## 추가\n",
    "- 왜?\n",
    "- 다른 방법?"
   ]
  },
  {
   "cell_type": "markdown",
   "metadata": {},
   "source": [
    "# 문서 방향 인식\n",
    "## 상태\n",
    "이미지 입력 => 상태\n",
    "## 행동\n",
    "돌린다 or 안돌린다\n",
    "## 환경의 변화\n",
    "환경 없음\n",
    "## 보상\n",
    "사용자가 이미지를 직접 돌려서 방향을 맞춘다 => -1\n",
    "그렇지 않는다 => 0\n",
    "- 귀찮아서 안돌릴 가능성이 있기때문\n",
    "# 목표\n",
    "사용자가 이미지를 직접 돌리지 않도록 한다\n",
    "- 보상의 최대화 = 이미지를 돌리지않음 = 성공\n",
    "\n",
    "# "
   ]
  },
  {
   "cell_type": "code",
   "execution_count": null,
   "metadata": {},
   "outputs": [],
   "source": []
  }
 ],
 "metadata": {
  "kernelspec": {
   "display_name": "Python 3",
   "language": "python",
   "name": "python3"
  },
  "language_info": {
   "name": "python",
   "version": "3.12.2"
  }
 },
 "nbformat": 4,
 "nbformat_minor": 2
}
