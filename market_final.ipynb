{
  "cells": [
    {
      "cell_type": "markdown",
      "metadata": {
        "id": "I-7rCsTXRejx"
      },
      "source": [
        "# 충청북도교육연구정보원 코인 주식 투자 (초단타!)"
      ]
    },
    {
      "cell_type": "markdown",
      "metadata": {
        "id": "SED8VfZqRejz"
      },
      "source": [
        "## 환경 코드 정의하기"
      ]
    },
    {
      "cell_type": "code",
      "execution_count": 1,
      "metadata": {
        "id": "38K1BDlCRejz"
      },
      "outputs": [],
      "source": [
        "import numpy as np\n",
        "\n",
        "\n",
        "class CoinEnv:\n",
        "    def __init__(self, start_price=10000, max_purchase=10, episode_len=100):\n",
        "        self.action_space = [[1, 0, 0], [0, 1, 0], [0, 0, 1]]\n",
        "        self.max_purchase = max_purchase\n",
        "        self.start_price = start_price\n",
        "        self.episode_len = episode_len\n",
        "\n",
        "    def _find_min_index(self, array):\n",
        "        assert set(array) != {None}\n",
        "        min_index = 0\n",
        "        min_value = +np.inf\n",
        "        for i in range(len(array)):\n",
        "            if array[i] == None:\n",
        "                continue\n",
        "            if array[i] < min_value:\n",
        "                min_index = i\n",
        "                min_value = array[i]\n",
        "        return min_index\n",
        "\n",
        "    def reset(self):\n",
        "        self.current_step = 0\n",
        "        self.state = [self.start_price] + [None for _ in range(self.max_purchase)]\n",
        "        return self.state\n",
        "\n",
        "    def step(self, action):\n",
        "        current_price = self.state[0]\n",
        "        current_inventory = self.state[1:]\n",
        "        reward = 0\n",
        "\n",
        "        if action[1]: # buy\n",
        "            if None in current_inventory: # not yet reached the maximum capacity\n",
        "                index = current_inventory.index(None)\n",
        "                current_inventory[index] = current_price\n",
        "            else:\n",
        "                # print(\"No more space left for buying! Changing action to 'wait'.\")\n",
        "                pass\n",
        "        elif action[2]: # sell\n",
        "            if set(current_inventory) != {None}: # we have something to sell\n",
        "                index = self._find_min_index(current_inventory)\n",
        "                bought_price = current_inventory[index]\n",
        "                reward += (current_price - bought_price)\n",
        "                current_inventory[index] = None\n",
        "            else:\n",
        "                # print(\"There is noting to sell! Changing action to 'wait'.\")\n",
        "                pass\n",
        "\n",
        "        direction = np.random.choice([-1, 1])\n",
        "        current_price += direction\n",
        "        current_price = max(0, current_price)\n",
        "        self.state = [current_price] + current_inventory\n",
        "        self.current_step += 1\n",
        "\n",
        "        done = (self.current_step >= self.episode_len)\n",
        "        if done:\n",
        "            while set(current_inventory) != {None}:\n",
        "                index = self._find_min_index(current_inventory)\n",
        "                bought_price = current_inventory[index]\n",
        "                reward += (current_price - bought_price)\n",
        "                current_inventory[index] = None\n",
        "\n",
        "        return self.state, reward, done, {'history': []}\n"
      ]
    },
    {
      "cell_type": "code",
      "execution_count": 2,
      "metadata": {
        "colab": {
          "base_uri": "https://localhost:8080/",
          "height": 452
        },
        "id": "dkT6lGqGRej0",
        "outputId": "dbfa753c-35ec-472b-ff0d-6153710a34c2"
      },
      "outputs": [
        {
          "data": {
            "image/png": "[encoded data removed]",
            "text/plain": [
              "<Figure size 640x480 with 1 Axes>"
            ]
          },
          "metadata": {},
          "output_type": "display_data"
        }
      ],
      "source": [
        "import matplotlib.pyplot as plt\n",
        "\n",
        "\n",
        "def evaluate():\n",
        "    timeline = []\n",
        "    price_history = []\n",
        "\n",
        "    env = CoinEnv()\n",
        "    state = env.reset()\n",
        "    current_price = state[0]\n",
        "    current_time = 0\n",
        "    total_reward = 0\n",
        "    done = False\n",
        "\n",
        "    while not done:\n",
        "        timeline.append(current_time)\n",
        "        price_history.append(current_price)\n",
        "        action = env.action_space[np.random.randint(3)] # 랜덤한 액션 선택\n",
        "        state, reward, done, _ = env.step(action)\n",
        "        current_price = state[0]\n",
        "        current_time += 1\n",
        "        total_reward += reward\n",
        "\n",
        "    return total_reward, timeline, price_history\n",
        "\n",
        "_, timeline, price_history = evaluate()\n",
        "\n",
        "plt.plot(timeline, price_history, 'r-')\n",
        "plt.title(\"1D Random Walk in Python\")\n",
        "plt.show()"
      ]
    },
    {
      "cell_type": "code",
      "execution_count": 3,
      "metadata": {
        "colab": {
          "base_uri": "https://localhost:8080/"
        },
        "id": "8RPsYHT6Rej1",
        "outputId": "3d45c5f4-3935-40ca-cc8c-5e5ae134c6b7"
      },
      "outputs": [
        {
          "name": "stdout",
          "output_type": "stream",
          "text": [
            "0.075\n",
            "175\n",
            "-178\n"
          ]
        }
      ],
      "source": [
        "# 랜덤한 액션을 취했을 때의 평균 수익\n",
        "\n",
        "rewards = []\n",
        "\n",
        "for _ in range(1000):\n",
        "    total_reward, _, _ = evaluate()\n",
        "    rewards.append(total_reward)\n",
        "\n",
        "print(np.mean(rewards))\n",
        "print(np.max(rewards))\n",
        "print(np.min(rewards))"
      ]
    },
    {
      "cell_type": "markdown",
      "metadata": {
        "id": "w3c1pwb8Rej2"
      },
      "source": [
        "## 나만의 전략을 이용해 평가해보기"
      ]
    },
    {
      "cell_type": "code",
      "execution_count": 4,
      "metadata": {
        "id": "41STw4tyRej2"
      },
      "outputs": [
        {
          "name": "stdout",
          "output_type": "stream",
          "text": [
            "1.317\n",
            "174\n",
            "-249\n"
          ]
        }
      ],
      "source": [
        "def my_strategy(state):\n",
        "    current_price = state[0]\n",
        "    current_inventory = state[1:]\n",
        "    ??????\n",
        "    return action\n",
        "\n",
        "def evaluate_my_strategy():\n",
        "    timeline = []\n",
        "    price_history = []\n",
        "\n",
        "    env = CoinEnv()\n",
        "    state = env.reset()\n",
        "    current_price = state[0]\n",
        "    current_time = 0\n",
        "    total_reward = 0\n",
        "    done = False\n",
        "\n",
        "    while not done:\n",
        "        timeline.append(current_time)\n",
        "        price_history.append(current_price)\n",
        "        action = my_strategy(state)\n",
        "        state, reward, done, _ = env.step(action)\n",
        "        current_price = state[0]\n",
        "        current_time += 1\n",
        "        total_reward += reward\n",
        "\n",
        "    return total_reward, timeline, price_history\n",
        "\n",
        "# 내 전략 평가하기\n",
        "rewards = []\n",
        "\n",
        "for _ in range(1000):\n",
        "    total_reward, _, _ = evaluate()\n",
        "    rewards.append(total_reward)\n",
        "\n",
        "print(np.mean(rewards))\n",
        "print(np.max(rewards))\n",
        "print(np.min(rewards))"
      ]
    },
    {
      "cell_type": "markdown",
      "metadata": {
        "id": "LOvTBUjCRej2"
      },
      "source": [
        "## 뉴-럴넷을 사용한 (아주) 간단한 강화학습"
      ]
    },
    {
      "cell_type": "code",
      "execution_count": 10,
      "metadata": {
        "id": "mKgsVzYBRej2"
      },
      "outputs": [],
      "source": [
        "import torch\n",
        "import torch.nn as nn\n",
        "import torch.nn.functional as F\n",
        "\n",
        "# Write neural network code -> 저번 시간에 했던 코드!!\n",
        "class NeuralNetwork(nn.Module):\n",
        "    # input_dim: 상태 정보의 크기 (현재 가격 1 + 구매 이력 10)\n",
        "    # 이때, 구매 이력의 크기는 최대 구매 가능 횟수로 결정함.\n",
        "\n",
        "    # output_dim: 행동의 크기 (구매하기, 팔기, 기다리기 -> 총 3가지)\n",
        "    def __init__(self, input_dim=21, output_dim=3, hidden_dim=512, num_layers=3):\n",
        "        super(NeuralNetwork, self).__init__()\n",
        "        self.input_layer = nn.Linear(input_dim, hidden_dim)\n",
        "        self.hidden_layers = [\n",
        "            nn.Linear(hidden_dim, hidden_dim)\n",
        "            for _ in range(num_layers)\n",
        "        ]\n",
        "        self.activation = nn.ReLU()\n",
        "        self.output_layer = nn.Linear(hidden_dim, output_dim)\n",
        "\n",
        "    def forward(self, x, mask):\n",
        "        x= torch.cat([x, mask], dim=-1) # x와 mask를 이어붙이는것\n",
        "        x = self.input_layer(x)\n",
        "        x = self.activation(x)\n",
        "        for layer in self.hidden_layers:\n",
        "          x = layer(x)\n",
        "          x = self.activation(x)\n",
        "        x = self.output_layer(x)\n",
        "        x = F.softmax(x, dim=-1)\n",
        "        return x"
      ]
    },
    {
      "cell_type": "code",
      "execution_count": 11,
      "metadata": {
        "id": "Vb8S5hmdRej3"
      },
      "outputs": [],
      "source": [
        "# 상태 정보를 뉴럴넷이 처리할 수 있는 pytorch tensor로 변경.\n",
        "# (참고: 쌤 환경 코드는 구매 가능 빈 슬롯을 None으로 했으므로, 아래 코드가 필요)\n",
        "def parse_state(state, start_price=10000, normalization_constant=10):\n",
        "    current_price = np.array([state[0]])\n",
        "    current_inventory = np.array(state[1:])\n",
        "\n",
        "    # 마스크를 생성\n",
        "    # 구매한 index는 1, 비어있는 index는 0을 출력\n",
        "    mask = np.ones_like(current_inventory)\n",
        "    mask_index = np.where(current_inventory == None)\n",
        "    mask[mask_index] = 0\n",
        "    mask = torch.tensor(mask.astype(np.float32)) # 파이토치 텐서로 변경\n",
        "\n",
        "    current_inventory[mask_index] = start_price\n",
        "    state = np.concatenate([current_price, current_inventory])\n",
        "    state = torch.tensor(state.astype(np.float32)) # 파이토치 텐서로 변경\n",
        "    state -= start_price # Normalization - 표준화\n",
        "    state /= normalization_constant\n",
        "    return state, mask\n",
        "\n",
        "# 보상 함수를 따로 정의\n",
        "# 지도 학습의 오차 함수 (loss function)의 역할을 수행할 수 있도록 하기 위함.\n",
        "class RewardFunction(nn.Module):\n",
        "    def __init__(self):\n",
        "        super(RewardFunction, self).__init__()\n",
        "\n",
        "    def forward(self, state, action, mask, done):\n",
        "        current_price = state[0]\n",
        "        inventory = state[1:]\n",
        "\n",
        "        current_price = current_price.float()\n",
        "        inventory = inventory.float()\n",
        "        mask = mask.float()\n",
        "\n",
        "        reward = torch.tensor(0.0, dtype=torch.float32, requires_grad=True)\n",
        "\n",
        "        if action[2] == 1:  # Sell action\n",
        "            if mask.sum() > 0:  # We have something to sell\n",
        "                valid_inventory = inventory * mask\n",
        "                min_value, min_index = valid_inventory.min(dim=0, keepdim=True)\n",
        "                reward = reward + (current_price - min_value) * mask[min_index]\n",
        "\n",
        "        if done:\n",
        "            valid_inventory = inventory * mask\n",
        "            while mask.sum() > 0:\n",
        "                min_value, min_index = valid_inventory.min(dim=0, keepdim=True)\n",
        "                reward = reward + (current_price - min_value).sum()\n",
        "                mask[min_index] = 0\n",
        "\n",
        "        return reward"
      ]
    },
    {
      "cell_type": "code",
      "execution_count": 12,
      "metadata": {
        "colab": {
          "base_uri": "https://localhost:8080/",
          "height": 1000
        },
        "id": "1jIM7_wjRej3",
        "outputId": "6f4c1429-4fa6-4798-a5c0-8023b8363b35"
      },
      "outputs": [
        {
          "name": "stdout",
          "output_type": "stream",
          "text": [
            "Total Reward: 0.29999998956918716\n",
            "Total Reward: 2.000000014901161\n",
            "Total Reward: 4.199999921023846\n",
            "Total Reward: 0.20000001788139343\n",
            "Total Reward: -3.2999998927116394\n",
            "Total Reward: 1.2000000923871994\n",
            "Total Reward: 2.100000075995922\n",
            "Total Reward: 0.4000000134110451\n",
            "Total Reward: 1.5999996215105057\n",
            "Total Reward: 0.799999937415123\n",
            "Total Reward: 0.8000000417232513\n",
            "Total Reward: 0.8000000193715096\n",
            "Total Reward: -3.5000001341104507\n",
            "Total Reward: -0.10000003129243851\n",
            "Total Reward: 0.9000000208616257\n",
            "Total Reward: -0.30000001192092896\n",
            "Total Reward: 1.7000000178813934\n",
            "Total Reward: 4.8000001311302185\n",
            "Total Reward: 2.200000010430813\n",
            "Total Reward: 0.20000000298023224\n",
            "Total Reward: -0.30000007152557373\n",
            "Total Reward: -1.4000000655651093\n",
            "Total Reward: 5.3999999538064\n",
            "Total Reward: 4.800000101327896\n",
            "Total Reward: 0.0\n",
            "Total Reward: -0.20000004768371582\n",
            "Total Reward: 0.10000001639127731\n",
            "Total Reward: -4.199999928474426\n",
            "Total Reward: 0.3000001460313797\n",
            "Total Reward: 0.30000001192092896\n",
            "Total Reward: 0.10000001639127731\n",
            "Total Reward: 1.6000000312924385\n",
            "Total Reward: 2.2000000402331352\n",
            "Total Reward: 0.5000000074505806\n",
            "Total Reward: -4.799999907612801\n",
            "Total Reward: 1.600000075995922\n",
            "Total Reward: 0.7000000104308128\n",
            "Total Reward: 2.4000000208616257\n",
            "Total Reward: -1.8999997973442078\n",
            "Total Reward: 6.100000075995922\n",
            "Total Reward: 1.7000000402331352\n",
            "Total Reward: 0.8000000342726707\n",
            "Total Reward: -0.7000003159046173\n",
            "Total Reward: -4.799999907612801\n",
            "Total Reward: 14.800000078976154\n",
            "Total Reward: -1.200000062584877\n",
            "Total Reward: 3.7000001296401024\n",
            "Total Reward: -1.8000001311302185\n",
            "Total Reward: -2.799999698996544\n",
            "Total Reward: 0.0\n",
            "Total Reward: 3.3000000789761543\n",
            "Total Reward: 0.4000000059604645\n",
            "Total Reward: 1.8000000342726707\n",
            "Total Reward: 0.20000000298023224\n",
            "Total Reward: 0.30000001192092896\n",
            "Total Reward: 0.9000000655651093\n",
            "Total Reward: -0.500000037252903\n",
            "Total Reward: 0.6000000014901161\n",
            "Total Reward: 0.09999999403953552\n",
            "Total Reward: 2.6000000163912773\n",
            "Total Reward: -0.10000003129243851\n",
            "Total Reward: 0.09999997168779373\n",
            "Total Reward: 1.1000000089406967\n",
            "Total Reward: 0.8999999910593033\n",
            "Total Reward: 0.8999999761581421\n",
            "Total Reward: 0.0\n",
            "Total Reward: -3.725290298461914e-08\n",
            "Total Reward: 0.299999937415123\n",
            "Total Reward: -3.8999999091029167\n",
            "Total Reward: 0.29999999701976776\n",
            "Total Reward: 1.7000000104308128\n",
            "Total Reward: 3.4000000283122063\n",
            "Total Reward: -2.299999788403511\n",
            "Total Reward: 1.300000049173832\n",
            "Total Reward: 4.700000166893005\n",
            "Total Reward: 1.200000025331974\n",
            "Total Reward: 0.0\n",
            "Total Reward: 0.30000004917383194\n",
            "Total Reward: 1.4000000581145287\n",
            "Total Reward: 0.499999962747097\n",
            "Total Reward: 1.400000013411045\n",
            "Total Reward: 0.29999999701976776\n",
            "Total Reward: -2.4000005424022675\n",
            "Total Reward: -0.40000005066394806\n",
            "Total Reward: -1.400000050663948\n",
            "Total Reward: 0.9999999180436134\n",
            "Total Reward: 2.1999999955296516\n",
            "Total Reward: 1.3000001460313797\n",
            "Total Reward: -0.2999999523162842\n",
            "Total Reward: 0.5000000074505806\n",
            "Total Reward: -0.9999998658895493\n",
            "Total Reward: -0.3999999761581421\n",
            "Total Reward: 2.600000098347664\n",
            "Total Reward: 1.6999999731779099\n",
            "Total Reward: 1.2999999299645424\n",
            "Total Reward: -0.70000009983778\n",
            "Total Reward: 0.49999992549419403\n",
            "Total Reward: 3.9000003039836884\n",
            "Total Reward: 2.9999998807907104\n",
            "Total Reward: 0.5000000074505806\n"
          ]
        },
        {
          "data": {
            "image/png": "[encoded data removed]",
            "text/plain": [
              "<Figure size 640x480 with 1 Axes>"
            ]
          },
          "metadata": {},
          "output_type": "display_data"
        },
        {
          "ename": "",
          "evalue": "",
          "output_type": "error",
          "traceback": [
            "\u001b[1;31m현재 셀 또는 이전 셀에서 코드를 실행하는 동안 Kernel이 충돌했습니다. \n",
            "\u001b[1;31m셀의 코드를 검토하여 가능한 오류 원인을 식별하세요. \n",
            "\u001b[1;31m자세한 내용을 보려면 <a href='https://aka.ms/vscodeJupyterKernelCrash'>여기</a>를 클릭하세요. \n",
            "\u001b[1;31m자세한 내용은 Jupyter <a href='command:jupyter.viewOutput'>로그</a>를 참조하세요."
          ]
        }
      ],
      "source": [
        "def train(num_epochs=100):\n",
        "\n",
        "    model = NeuralNetwork() # 모델 정의\n",
        "    reward_function = RewardFunction() # 보상 함수를 정의\n",
        "\n",
        "    optimizer = torch.optim.Adam(model.parameters(), lr=0.02) # 뉴럴넷의 학습을 위해 필요한 부분\n",
        "\n",
        "\n",
        "    reward_curve = []\n",
        "    for epoch in range(num_epochs):\n",
        "        env = CoinEnv()\n",
        "        state = env.reset()\n",
        "        current_price = state[0]\n",
        "        current_time = 0\n",
        "        total_reward = 0\n",
        "\n",
        "        done = False\n",
        "\n",
        "        while not done:\n",
        "            timeline.append(current_time)\n",
        "            price_history.append(current_price)\n",
        "            state, mask = parse_state(state)\n",
        "\n",
        "            # 지도 학습에서 사용한 뉴럴넷 학습 코드\n",
        "            # 전체적인 구조는 동일!\n",
        "            '''\n",
        "            optimizer.zero_grad() # (1)\n",
        "            output = network(x) # (2)\n",
        "            loss = loss_function(y, output) # (3)\n",
        "            loss.backward() # (4)\n",
        "            optimizer.step() # (5)\n",
        "            '''\n",
        "\n",
        "            optimizer.zero_grad() # (1)\n",
        "\n",
        "            logits = model(state, mask) # (2)\n",
        "            # logit은 모델이 생각하는 행동에 대한 확률\n",
        "            # 가장 큰 확률값을 선택하는 행동\n",
        "            # argmax_index = torch.argmax(logits)\n",
        "            # num_classes = logits.size(0)\n",
        "            # action = F.one_hot(argmax_index, num_classes)\n",
        "\n",
        "            # 아래는 확률에 따라 행동을 랜덤하게 선택하게 하는 코드\n",
        "            m = torch.distributions.Categorical(logits=logits)\n",
        "            action_index = m.sample()\n",
        "            num_classes = logits.size(0)\n",
        "            action = F.one_hot(action_index, num_classes).float()\n",
        "\n",
        "            reward = reward_function(state, action, mask, done) # (3)\n",
        "            loss = -reward # (3)\n",
        "\n",
        "            loss.backward() # (4)\n",
        "            optimizer.step() # (5)\n",
        "\n",
        "            state, _, done, _ = env.step(action)\n",
        "            current_price = state[0]\n",
        "            current_time += 1\n",
        "            total_reward += reward.item()\n",
        "\n",
        "        print(f\"Total Reward: {total_reward}\")\n",
        "        reward_curve.append(total_reward)\n",
        "\n",
        "    plt.plot(reward_curve)\n",
        "    plt.show()\n",
        "\n",
        "train()\n"
      ]
    }
  ],
  "metadata": {
    "colab": {
      "provenance": []
    },
    "interpreter": {
      "hash": "2647ea34e536f865ab67ff9ddee7fd78773d956cec0cab53c79b32cd10da5d83"
    },
    "kernelspec": {
      "display_name": "Python 3.9.6 64-bit",
      "name": "python3"
    },
    "language_info": {
      "codemirror_mode": {
        "name": "ipython",
        "version": 3
      },
      "file_extension": ".py",
      "mimetype": "text/x-python",
      "name": "python",
      "nbconvert_exporter": "python",
      "pygments_lexer": "ipython3",
      "version": "3.12.1"
    },
    "orig_nbformat": 4
  },
  "nbformat": 4,
  "nbformat_minor": 0
}
